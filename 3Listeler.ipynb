{
 "cells": [
  {
   "attachments": {},
   "cell_type": "markdown",
   "metadata": {},
   "source": [
    "Soru1\n",
    "Listedeki sayılardan tek olanları lambda fonksiyonu kullanarak yazdırınız.\n",
    "\n",
    "list_ = [34, 12, 64, 57, 75, 13, 63, 3, 23, 232, 3453, 111211]"
   ]
  },
  {
   "cell_type": "code",
   "execution_count": 5,
   "metadata": {},
   "outputs": [
    {
     "name": "stdout",
     "output_type": "stream",
     "text": [
      "[57, 75, 13, 63, 3, 23, 3453, 111211]\n"
     ]
    }
   ],
   "source": [
    "my_list = [34, 12, 64, 57, 75, 13, 63, 3, 23, 232, 3453, 111211]\n",
    "\n",
    "print(list(filter(lambda x: x %2 != 0,my_list)))"
   ]
  },
  {
   "attachments": {},
   "cell_type": "markdown",
   "metadata": {},
   "source": [
    "Soru2\n",
    "[0,1,2,3,4,5,6,7,9,10,12] Verilen listenin\n",
    "\n",
    "- 3.indexi ile 6.indexi arasındaki değerleri yazdırınız.\n",
    "- Listeyi tersten yazdırınız.\n",
    "- Listeye 10'dan sonra olacak şekilde 11 değerini ekleyiniz.\n",
    "- Listenin en başına -15 değerini ekleyiniz.\n",
    "\n",
    "- Listenin sonundaki değeri siliniz ve ekrana yazdırınız.\n",
    "- Listeye 5.indexten başlayarak 50 ve 51 değerlerini ekleyiniz.\n",
    "- Listedeki her bir değeri, değerin 10 ile çarpımı ile güncelleyiniz.\n",
    "\n",
    "- Listedeki her bir değer için, eğer değer 2'nin katı ise  değerin 5'e bölümü ile (KALAN MI?)  2'nin katı değilse değere 2 ekleyerek güncelleyiniz.???????"
   ]
  },
  {
   "cell_type": "code",
   "execution_count": null,
   "metadata": {},
   "outputs": [],
   "source": [
    "liste = [0,1,2,3,4,5,6,7,9,10,12]\n",
    "\n",
    "#Soru 1\n",
    "print(liste[3:7])\n",
    "\n",
    "#Soru 2\n",
    "print(liste[::-1])\n",
    "\n",
    "#Soru 3\n",
    "liste.insert(10, 11)\n",
    "print(liste)\n",
    "\n",
    "#Soru 4\n",
    "liste.insert(0, -15)\n",
    "print(liste)\n",
    "\n",
    "\n",
    "#Soru 5\n",
    "print(liste.pop())\n",
    "\n",
    "#Soru 6\n",
    "liste[5:5] = [50, 51]\n",
    "print(liste)\n",
    "\n",
    "#Soru 7\n",
    "liste = list(map(lambda number: number * 10,liste))\n",
    "print(liste)\n",
    "\n",
    "#Soru 8\n",
    "liste = list(map(lambda number: number // 5 if number % 2 == 0 else number + 2, liste))\n",
    "print(liste)"
   ]
  },
  {
   "attachments": {},
   "cell_type": "markdown",
   "metadata": {},
   "source": [
    "Soru3\n",
    "Kendisine parametre olarak verilen listenin içerisindeki sayıları toplayan ve bu sonucu dönen bir fonksiyon yazınız."
   ]
  },
  {
   "cell_type": "code",
   "execution_count": 2,
   "metadata": {},
   "outputs": [
    {
     "name": "stdout",
     "output_type": "stream",
     "text": [
      "15\n"
     ]
    }
   ],
   "source": [
    "def listetopla(list):\n",
    "    sayac = 0 \n",
    "    list = [1, 2, 3, 4, 5]\n",
    "    for i in list:\n",
    "        sayac = sayac + i \n",
    "    return sayac\n",
    "print(listetopla(list))"
   ]
  },
  {
   "cell_type": "markdown",
   "metadata": {},
   "source": [
    "Kendisine parametre olarak verilen listenin içerisindeki sayıları çarpan ve bu sonucu dönen bir fonksiyon yazınız."
   ]
  },
  {
   "cell_type": "code",
   "execution_count": 1,
   "metadata": {},
   "outputs": [
    {
     "name": "stdout",
     "output_type": "stream",
     "text": [
      "120\n"
     ]
    }
   ],
   "source": [
    "def listecarp(list):\n",
    "    sayac = 1\n",
    "    list = [1, 2, 3, 4, 5]\n",
    "    for i in list:\n",
    "        sayac = sayac*i \n",
    "    return sayac\n",
    "print(listecarp(list))"
   ]
  },
  {
   "cell_type": "markdown",
   "metadata": {},
   "source": [
    "\n",
    "Kendisine parametre olarak verilen listenin içerisindeki sayıların 5 ile bölümünden kalanlarının toplamını dönen bir fonksiyon yazınız."
   ]
  },
  {
   "cell_type": "code",
   "execution_count": 12,
   "metadata": {},
   "outputs": [
    {
     "data": {
      "text/plain": [
       "5"
      ]
     },
     "execution_count": 12,
     "metadata": {},
     "output_type": "execute_result"
    }
   ],
   "source": [
    "def myfunc(my_list):\n",
    "    kalan=0\n",
    "    for i in my_list:\n",
    "        kalan += i % 5\n",
    "    return(kalan)\n",
    "my_list = [5, 7, 8, 10]\n",
    "myfunc(my_list)\n"
   ]
  },
  {
   "attachments": {},
   "cell_type": "markdown",
   "metadata": {},
   "source": [
    "-1000 ile 1000 aralığında random sayılardan oluşan 250 elemanlı bir liste oluşturunuz. Sonrasında oluşturduğunuz bu liste ile aşağıdaki işlemleri yapınız.\n",
    "\n",
    "- Bu liste içerisinde kaç adet pozitif, kaç adet negatif sayı olduğunu bulunuz.\n",
    "- Bu liste içerisinde kaç adet tek, kaç adet çift sayı olduğunu bulunuz.\n",
    "- Bu liste içerisinde 3'e tam bölünen sayıların toplamını bulunuz.\n",
    "- Bu liste içerisinde 5'e tam bölünen sayıların toplamını bulunuz.\n",
    "- Bu liste içerisinde 15'e tam bölünen sayıların toplamını bulunuz.\n",
    "- Bu liste içerisindeki çift sayıların ve tek sayıların toplamını bulunuz.\n",
    "- Bu liste içerisinde çift indexte bulunan sayıların toplamını bulunuz.\n",
    "- Listedeki her bir değer için, eğer değer pozitif ise 10 çıkarınız değilse 20 ekleyiniz.\n",
    "- Listedeki pozitif ve negatif değerlerin en büyüğünü ayrı ayrı bulunuz."
   ]
  },
  {
   "cell_type": "code",
   "execution_count": null,
   "metadata": {},
   "outputs": [],
   "source": [
    "#Önce Liste oluşturalım\n"
   ]
  },
  {
   "attachments": {},
   "cell_type": "markdown",
   "metadata": {},
   "source": [
    "O. indexten 2.indexse kadar olan değerleri ekrana bastıran kodu yazınız."
   ]
  },
  {
   "cell_type": "code",
   "execution_count": 1,
   "metadata": {},
   "outputs": [
    {
     "name": "stdout",
     "output_type": "stream",
     "text": [
      "['Python', 'C']\n"
     ]
    }
   ],
   "source": [
    "\n",
    "my_list = [ \"Python\", \"C\", \"C#\", \"Matlab\" ]\n",
    "print(my_list[0:2])"
   ]
  },
  {
   "attachments": {},
   "cell_type": "markdown",
   "metadata": {},
   "source": [
    "Index Değerlerini gösteren kodu yazınız."
   ]
  },
  {
   "cell_type": "code",
   "execution_count": 9,
   "metadata": {},
   "outputs": [
    {
     "name": "stdout",
     "output_type": "stream",
     "text": [
      "0. index değeri : Python\n",
      "1. index değeri : C\n",
      "2. index değeri : C#\n",
      "3. index değeri : Matlab\n"
     ]
    }
   ],
   "source": [
    "my_list = [ \"Python\", \"C\", \"C#\", \"Matlab\" ]\n",
    "for i in range (0, len(my_list)):\n",
    "    print(f\"{i}. index değeri : {my_list[i]}\")"
   ]
  },
  {
   "attachments": {},
   "cell_type": "markdown",
   "metadata": {},
   "source": [
    "Listeye yeni bir eleman eklemek için :"
   ]
  },
  {
   "cell_type": "code",
   "execution_count": 12,
   "metadata": {},
   "outputs": [
    {
     "name": "stdout",
     "output_type": "stream",
     "text": [
      "['Python', 'C', 'C#', 'Matlab', 'Java']\n"
     ]
    }
   ],
   "source": [
    "my_list = [ \"Python\", \"C\", \"C#\", \"Matlab\" ]\n",
    "my_list.append(\"Java\")\n",
    "\n",
    "print(my_list)"
   ]
  },
  {
   "cell_type": "code",
   "execution_count": 14,
   "metadata": {},
   "outputs": [
    {
     "name": "stdout",
     "output_type": "stream",
     "text": [
      "['Python', 'C', 'Java', 'C#', 'Matlab']\n"
     ]
    }
   ],
   "source": [
    "my_list = [ \"Python\", \"C\", \"C#\", \"Matlab\" ]\n",
    "my_list.insert(2,\"Java\")\n",
    "print(my_list)\n"
   ]
  },
  {
   "cell_type": "code",
   "execution_count": 16,
   "metadata": {},
   "outputs": [
    {
     "name": "stdout",
     "output_type": "stream",
     "text": [
      "['Python', 'C', 'C#', 'Matlab', 'Java', 'Css']\n"
     ]
    }
   ],
   "source": [
    "my_list = [ \"Python\", \"C\", \"C#\", \"Matlab\" ]\n",
    "my_list.extend([\"Java\", \"Css\"])\n",
    "print(my_list)\n"
   ]
  },
  {
   "attachments": {},
   "cell_type": "markdown",
   "metadata": {},
   "source": [
    "Listeden eleman çıkartmak için"
   ]
  },
  {
   "cell_type": "code",
   "execution_count": 37,
   "metadata": {},
   "outputs": [
    {
     "name": "stdout",
     "output_type": "stream",
     "text": [
      "Önceki Hali:  ['John', 'Paul', 'George', 'Ringo', 'Hey Jude', 1960]\n",
      "Sonraki Hali:  ['John', 'Paul', 'George', 'Ringo', 'Hey Jude', 1960]\n"
     ]
    }
   ],
   "source": [
    "mylist1 = [ 1960, 20, \"John\", \"Paul\", \"George\", \"Ringo\", \"Hey Jude\"]\n",
    "print(\"Önceki Hali: \", my_list)\n",
    "mylist1.remove(1960)\n",
    "print(\"Sonraki Hali: \", my_list)"
   ]
  }
 ],
 "metadata": {
  "kernelspec": {
   "display_name": "Python 3.10.7 64-bit",
   "language": "python",
   "name": "python3"
  },
  "language_info": {
   "codemirror_mode": {
    "name": "ipython",
    "version": 3
   },
   "file_extension": ".py",
   "mimetype": "text/x-python",
   "name": "python",
   "nbconvert_exporter": "python",
   "pygments_lexer": "ipython3",
   "version": "3.10.7"
  },
  "orig_nbformat": 4,
  "vscode": {
   "interpreter": {
    "hash": "fa8af0cc1927a15d37d0c6a05a578f184341335e7f035027322b44b8322fd6ef"
   }
  }
 },
 "nbformat": 4,
 "nbformat_minor": 2
}
