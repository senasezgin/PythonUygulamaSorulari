{
 "cells": [
  {
   "cell_type": "markdown",
   "metadata": {},
   "source": [
    "### Soru XXX\n",
    "Kullanıcının girdiği ad, soyad ve yaş bilgilerini tutan bir dictionary oluşturunuz.\n",
    "- Kullanıcının ad değerini, büyük harfler ile güncelleyiniz. \n",
    "- Kullanıcının yaş değerine 2 ekleyiniz.\n",
    "- Dictionary'e kullanıcının en sevdiği rengi ekleyiniz key-value şeklinde ekleyiniz.\n",
    "- Kullanıcının adını ve soyadını kapsayan yeni bir key-value ekleyiniz.\n",
    "- Kullanıcının ad değerini dictionary'den kaldırınız."
   ]
  },
  {
   "cell_type": "code",
   "execution_count": null,
   "metadata": {},
   "outputs": [],
   "source": [
    "ad = input(\"Adınızı giriniz: \")\n",
    "soyad = input(\"Soyadınızı giriniz: \")\n",
    "yas = int(input(\"Yaşınızı giriniz: \"))\n",
    "\n",
    "kullanici = {\"ad\":ad, \"soyad\":soyad, \"yas\":yas}\n",
    "\n",
    "kullanici[\"ad\"] = kullanici[\"ad\"].upper()\n",
    "kullanici[\"yas\"] += 2\n",
    "kullanici[\"renk\"] = input(\"En sevdiğiniz renk: \")\n",
    "\n",
    "kullanici[\"ad soyad\"] = kullanici[\"ad\"] + \" \" + kullanici[\"soyad\"]\n",
    "\n",
    "del kullanici[\"ad\"]\n",
    "\n",
    "\n",
    "\n",
    "\n",
    "\n",
    "\n"
   ]
  },
  {
   "cell_type": "markdown",
   "metadata": {},
   "source": [
    "### Soru XXX\n",
    "Kullanıcının verdiği aralığa göre, key değerleri o anki sayı, value değerleri o anki sayının karesi olan bir dictionary oluşturunuz.\n",
    "\n",
    "Örnek olarak, kullanıcı aralık olarak 2 ve 7 girmiş olsun. Bizden beklenen dictionary şu şekilde olmalıdır;\n",
    "\n"
   ]
  },
  {
   "cell_type": "code",
   "execution_count": 2,
   "metadata": {},
   "outputs": [
    {
     "name": "stdout",
     "output_type": "stream",
     "text": [
      "{5: 25, 6: 36, 7: 49, 8: 64, 9: 81}\n"
     ]
    }
   ],
   "source": [
    "dictionary = {}\n",
    "baslangic = int(input(\"Başlangıç sayısını giriniz: \"))\n",
    "bitis = int(input(\"Bitiş sayısını giriniz: \"))\n",
    "for i in range(baslangic, bitis+1):\n",
    "    dictionary[i] = i**2\n",
    "\n",
    "print(dictionary)\n",
    "\n",
    "\n",
    "\n",
    "\n"
   ]
  },
  {
   "cell_type": "markdown",
   "metadata": {},
   "source": [
    "### Soru XXX\n",
    "Aşağıda verilen liste ile istenilen işlemleri yapınız.\n",
    "- Yaşı 20'den büyük olanları ekrana yazdırınız.\n",
    "- Adı 'A' ile başlayanları ekrana yazdırınız.\n",
    "- Soyadı 'J' ile başlayanları ekrana yazdırınız.\n",
    "- Adı 'C' ile soyadı 'A' ile başlayanları ekrana yazdırınız.\n",
    "- Adının içinde 'A' ahrfi geçenleri ekrana yazdırınız.\n",
    "- Yaşı tek sayı olanları ekrana yazdırınız.\n",
    "- Kullanının yaşını, (kullanıcının yaşı + kullanıcının soyadının uzunluğu) şeklinde güncelleyiniz.\n",
    "- Kullanıcının adını ve soyadını içeren FullName adında yeni bir key-value pair oluşturunuz."
   ]
  },
  {
   "cell_type": "code",
   "execution_count": 1,
   "metadata": {},
   "outputs": [],
   "source": [
    "myUsers = [\n",
    "    {\n",
    "        \"Name\":\"Rosalind\",\n",
    "        \"Surname\": \"Rich\",\n",
    "        \"Age\": 23\n",
    "    }\n",
    "    ,{\n",
    "        \"Name\":\"Annika\",\n",
    "        \"Surname\": \"Keenan\",\n",
    "        \"Age\": 28\n",
    "    }\n",
    "    ,{\n",
    "        \"Name\":\"Emillie\",\n",
    "        \"Surname\": \"Plummer\",\n",
    "        \"Age\": 17\n",
    "    }\n",
    "    ,{\n",
    "        \"Name\":\"Kourtney\",\n",
    "        \"Surname\": \"Pate\",\n",
    "        \"Age\": 30\n",
    "    }\n",
    "    ,{\n",
    "        \"Name\":\"Virgil\",\n",
    "        \"Surname\": \"Solomon\",\n",
    "        \"Age\": 40\n",
    "    }\n",
    "    ,{\n",
    "        \"Name\":\"Bobby\",\n",
    "        \"Surname\": \"Jordan\",\n",
    "        \"Age\":33\n",
    "    }\n",
    "    ,{\n",
    "        \"Name\":\"Alfie\",\n",
    "        \"Surname\":\"James Robson\",\n",
    "        \"Age\": 16\n",
    "    } \n",
    "    ,{\n",
    "        \"Name\":\"Isla\",\n",
    "        \"Surname\":\"Grace Tran\",\n",
    "        \"Age\": 64\n",
    "    } \n",
    "    ,{\n",
    "        \"Name\":\"Arif\",\n",
    "        \"Surname\": \"Rivas\",\n",
    "        \"Age\": 43\n",
    "    }\n",
    "    ,{\n",
    "        \"Name\":\"Zakaria\",\n",
    "        \"Surname\": \"Whitehead\",\n",
    "        \"Age\": 82\n",
    "    }\n",
    "    ,{\n",
    "        \"Name\":\"Casper\",\n",
    "        \"Surname\": \"Velasquez\",\n",
    "        \"Age\": 57\n",
    "    }\n",
    "    ,{\n",
    "        \"Name\":\"Caoimhe\",\n",
    "        \"Surname\": \"Ali\",\n",
    "        \"Age\": 34\n",
    "    }\n",
    "    ,{\n",
    "        \"Name\":\"Viola\",\n",
    "        \"Surname\": \"Shepherd\",\n",
    "        \"Age\": 18\n",
    "    }\n",
    "]"
   ]
  },
  {
   "cell_type": "code",
   "execution_count": null,
   "metadata": {},
   "outputs": [],
   "source": [
    "#Soru 1\n",
    "print(list(filter(lambda userDict:userDict[\"Age\"] > 20, myUsers)))\n",
    "\n",
    "#Soru 2\n",
    "print(list(filter(lambda userDict:userDict[\"Name\"][0].lower() == 'a', myUsers)))\n",
    "\n",
    "#Soru 3\n",
    "print(list(filter(lambda userDict:userDict[\"Surname\"][0].lower() == 'j', myUsers)))\n",
    "\n",
    "#Soru 4\n",
    "print(list(filter(lambda userDict:userDict[\"Name\"][0].lower() == 'c' and userDict[\"Surname\"][0].lower() == 'a', myUsers)))\n",
    "\n",
    "#Soru 5\n",
    "print(list(filter(lambda userDict:'a' in userDict[\"Name\"].lower(), myUsers)))\n",
    "\n",
    "#Soru 6\n",
    "print(list(filter(lambda userDict:userDict[\"Age\"] % 2 == 1, myUsers)))\n",
    "\n",
    "#Soru 7\n",
    "myUsers = list(map(lambda userDict: {\"Name\": userDict[\"Name\"], \"Surname\": userDict[\"Surname\"], \"Age\": userDict[\"Age\"] + len(userDict[\"Surname\"])}, myUsers))\n",
    "print(myUsers)\n",
    "\n",
    "#Soru 8\n",
    "myUsers = list(map(lambda userDict: {\"Name\": userDict[\"Name\"], \"Surname\": userDict[\"Surname\"], \"Age\": userDict[\"Age\"], \"FullName\": userDict[\"Name\"] + ' ' + userDict[\"Surname\"]}, myUsers))\n",
    "print(myUsers)\n",
    "\n",
    "# print(list(map(lambda person: {\"Name\": person[\"Name\"],\"Surname\": person[\"Surname\"],\"Age\": person[\"Age\"] + len(person[\"Surname\"])}, myUsers)))"
   ]
  },
  {
   "cell_type": "code",
   "execution_count": 6,
   "metadata": {},
   "outputs": [
    {
     "name": "stdout",
     "output_type": "stream",
     "text": [
      "[{'Name': 'Rosalind', 'Surname': 'Rich', 'Age': 27}, {'Name': 'Annika', 'Surname': 'Keenan', 'Age': 34}, {'Name': 'Emillie', 'Surname': 'Plummer', 'Age': 24}, {'Name': 'Kourtney', 'Surname': 'Pate', 'Age': 34}, {'Name': 'Virgil', 'Surname': 'Solomon', 'Age': 47}, {'Name': 'Bobby', 'Surname': 'Jordan', 'Age': 39}, {'Name': 'Alfie', 'Surname': 'James Robson', 'Age': 28}, {'Name': 'Isla', 'Surname': 'Grace Tran', 'Age': 74}, {'Name': 'Arif', 'Surname': 'Rivas', 'Age': 48}, {'Name': 'Zakaria', 'Surname': 'Whitehead', 'Age': 91}, {'Name': 'Casper', 'Surname': 'Velasquez', 'Age': 66}, {'Name': 'Caoimhe', 'Surname': 'Ali', 'Age': 37}, {'Name': 'Viola', 'Surname': 'Shepherd', 'Age': 26}]\n"
     ]
    }
   ],
   "source": [
    "print(list(map(lambda person: {\"Name\": person[\"Name\"],\"Surname\": person[\"Surname\"],\"Age\": person[\"Age\"] + len(person[\"Surname\"])}, myUsers)))"
   ]
  },
  {
   "cell_type": "code",
   "execution_count": null,
   "metadata": {},
   "outputs": [],
   "source": [
    "\n",
    "for user in myUsers:\n",
    "    if user[\"Age\"] > 20:\n",
    "        print(user)\n",
    "\n"
   ]
  },
  {
   "cell_type": "code",
   "execution_count": null,
   "metadata": {},
   "outputs": [],
   "source": [
    "# 2. Soru\n",
    "\n",
    "for user in myUsers:\n",
    "    if user[\"Name\"].startswith(\"A\"):\n",
    "        print(user)\n",
    "        "
   ]
  },
  {
   "cell_type": "code",
   "execution_count": null,
   "metadata": {},
   "outputs": [],
   "source": [
    "# 3. Soru\n",
    "\n",
    "for user in myUsers:\n",
    "    if user[\"Name\"].startswith(\"J\"):"
   ]
  },
  {
   "cell_type": "code",
   "execution_count": null,
   "metadata": {},
   "outputs": [],
   "source": [
    "# 4. Soru\n",
    "for user in myUsers:\n",
    "    if user[\"Name\"].startswith(\"C\") and user[\"Surname\"].startswith(\"A\"):\n",
    "        print(user)\n",
    "        \n"
   ]
  },
  {
   "cell_type": "code",
   "execution_count": null,
   "metadata": {},
   "outputs": [],
   "source": [
    "# 5. Soru\n",
    "for user in myUsers:\n",
    "\n",
    "    if \"A\" and \"a\" in user[\"Name\"]:\n",
    "        print(user)"
   ]
  },
  {
   "cell_type": "code",
   "execution_count": null,
   "metadata": {},
   "outputs": [],
   "source": [
    "\n",
    "# 6. Soru\n",
    "for user in myUsers:\n",
    "    if user[\"Age\"] % 2 == 1:\n",
    "        print(user)"
   ]
  },
  {
   "cell_type": "code",
   "execution_count": null,
   "metadata": {},
   "outputs": [],
   "source": [
    "\n",
    "# 7. Soru ve 8. soru\n",
    "for user in myUsers:\n",
    "    user[\"Age\"] = user[\"Age\"] + len(user[\"Surname\"])\n",
    "    user[\"FullName\"] = user[\"Name\"] + \" \" + user[\"Surname\"]\n",
    "    print(user)\n",
    "    "
   ]
  },
  {
   "cell_type": "markdown",
   "metadata": {},
   "source": [
    "### Soru XXX\n",
    "Kullanıcının girdiği string içerisindeki unique karakterleri ekrana yazdırınız."
   ]
  },
  {
   "cell_type": "code",
   "execution_count": null,
   "metadata": {},
   "outputs": [],
   "source": [
    "x = input(\"Kullanıcı ismi giriniz:\")\n",
    "\n",
    "short_user_name = []\n",
    "for i in x:\n",
    "    if i in short_user_name:\n",
    "        continue\n",
    "    else:\n",
    "        short_user_name.append(i)\n",
    "for j in short_user_name:\n",
    "    print(j, end=\"\")"
   ]
  },
  {
   "cell_type": "code",
   "execution_count": null,
   "metadata": {},
   "outputs": [],
   "source": [
    "userInput = input()\n",
    "print(set(userInput))"
   ]
  },
  {
   "cell_type": "markdown",
   "metadata": {},
   "source": [
    "### Soru XXX\n",
    "Verilen iki set için aşağıdaki işlemleri yapınız;\n",
    "- İki set arasındaki farkı ekrana yazdırınız.\n",
    "- İki set içerisinde ortak olanları ekrana yazdırınız.\n",
    "- İki seti birleştirip ekrana yazdırınız.\n",
    "- İlk set içerisinde olmayıp ikinci set içerisinde olan değerleri ekrana yazdırınız.\n",
    "- İkinci set içerisinde olmayıp ilk set içerisinde olan değerleri ekrana yazdırınız.\n",
    "\n",
    "```python\n",
    "set1 = {True, False, 1, 2, 3, 4, 's', 'i', 's', 't', 'e'}\n",
    "set2 = {'r', 's', 'l', 'a', 'b', None, 6, 7, 8, 9}\n",
    "```"
   ]
  },
  {
   "cell_type": "code",
   "execution_count": null,
   "metadata": {},
   "outputs": [],
   "source": [
    "\n",
    "\n",
    "\n",
    "\n"
   ]
  },
  {
   "cell_type": "markdown",
   "metadata": {},
   "source": [
    "### Soru XXX\n",
    "Kullanıcıdan alınan string ifadedeki karakterlerin kaç kere tekrar ettiğini tutan bir dictionary oluşturunuz.\n",
    "\n",
    "sisterslab için örnek çıktı şu şekilde olmalıdır \n",
    "\n",
    "```python\n",
    "{'s': 3, 'r': 1, 'e': 1, 'l': 1, 'b': 1, 't': 1, 'a': 1, 'i': 1}\n",
    "```"
   ]
  },
  {
   "cell_type": "code",
   "execution_count": 3,
   "metadata": {},
   "outputs": [
    {
     "name": "stdout",
     "output_type": "stream",
     "text": [
      "{'s': 3, 'i': 1, 't': 1, 'e': 1, 'r': 1, 'l': 1, 'a': 1, 'b': 1}\n"
     ]
    }
   ],
   "source": [
    "\n"
   ]
  },
  {
   "cell_type": "code",
   "execution_count": 2,
   "metadata": {},
   "outputs": [
    {
     "name": "stdout",
     "output_type": "stream",
     "text": [
      "[24, 6, 18]\n"
     ]
    }
   ],
   "source": [
    "my_list = [[8, 86, 88], [2, 63, 56], [6, 78, 53]]\n",
    "\n",
    "print(list(map(lambda x:x[0]*3, my_list)))"
   ]
  }
 ],
 "metadata": {
  "kernelspec": {
   "display_name": "Python 3.10.7 64-bit",
   "language": "python",
   "name": "python3"
  },
  "language_info": {
   "codemirror_mode": {
    "name": "ipython",
    "version": 3
   },
   "file_extension": ".py",
   "mimetype": "text/x-python",
   "name": "python",
   "nbconvert_exporter": "python",
   "pygments_lexer": "ipython3",
   "version": "3.10.7"
  },
  "orig_nbformat": 4,
  "vscode": {
   "interpreter": {
    "hash": "fa8af0cc1927a15d37d0c6a05a578f184341335e7f035027322b44b8322fd6ef"
   }
  }
 },
 "nbformat": 4,
 "nbformat_minor": 2
}
