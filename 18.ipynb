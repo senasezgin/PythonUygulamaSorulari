{
 "cells": [
  {
   "cell_type": "code",
   "execution_count": 4,
   "metadata": {},
   "outputs": [
    {
     "ename": "TypeError",
     "evalue": "'int' object is not subscriptable",
     "output_type": "error",
     "traceback": [
      "\u001b[1;31m---------------------------------------------------------------------------\u001b[0m",
      "\u001b[1;31mTypeError\u001b[0m                                 Traceback (most recent call last)",
      "Cell \u001b[1;32mIn [4], line 2\u001b[0m\n\u001b[0;32m      1\u001b[0m keys \u001b[39m=\u001b[39m \u001b[39minput\u001b[39m(\u001b[39m\"\u001b[39m\u001b[39mAd-Soyad giriniz\u001b[39m\u001b[39m\"\u001b[39m)\n\u001b[1;32m----> 2\u001b[0m values \u001b[39m=\u001b[39m \u001b[39mint\u001b[39;49m(\u001b[39minput\u001b[39;49m(\u001b[39m\"\u001b[39;49m\u001b[39mYaş girin\u001b[39;49m\u001b[39m\"\u001b[39;49m))[\u001b[39m1\u001b[39;49m, \u001b[39m34\u001b[39;49m, \u001b[39m65\u001b[39;49m]\n\u001b[0;32m      4\u001b[0m my_dict \u001b[39m=\u001b[39m {}\n\u001b[0;32m      5\u001b[0m \u001b[39mfor\u001b[39;00m i \u001b[39min\u001b[39;00m \u001b[39mrange\u001b[39m(\u001b[39mlen\u001b[39m(keys)):\n",
      "\u001b[1;31mTypeError\u001b[0m: 'int' object is not subscriptable"
     ]
    }
   ],
   "source": [
    "\n",
    "\n",
    "keys = input(\"Ad-Soyad giriniz\")\n",
    "values = int(input(\"Yaş girin\"))[1, 34, 65]\n",
    "\n",
    "my_dict = {}\n",
    "for i in range(len(keys)):\n",
    "    my_dict.update({keys[i]:values[i]})\n",
    "\n",
    "my_dict"
   ]
  },
  {
   "cell_type": "code",
   "execution_count": null,
   "metadata": {},
   "outputs": [],
   "source": []
  },
  {
   "cell_type": "code",
   "execution_count": null,
   "metadata": {},
   "outputs": [],
   "source": []
  },
  {
   "cell_type": "code",
   "execution_count": null,
   "metadata": {},
   "outputs": [],
   "source": [
    "bilgi = {}\n",
    "\n",
    "\n",
    "name = input(\"adı: \")\n",
    "surname = input(\"soyad: \")\n",
    "yas = input(\"Yaş: \")\n",
    "\n",
    "bilgi.update({\n",
    "    number: {\n",
    "        'ad': name,\n",
    "        'soyad': surname,\n",
    "        'yas':yas \n",
    "    }\n",
    "})\n"
   ]
  },
  {
   "cell_type": "code",
   "execution_count": 14,
   "metadata": {},
   "outputs": [
    {
     "ename": "NameError",
     "evalue": "name 'key' is not defined",
     "output_type": "error",
     "traceback": [
      "\u001b[1;31m---------------------------------------------------------------------------\u001b[0m",
      "\u001b[1;31mNameError\u001b[0m                                 Traceback (most recent call last)",
      "Cell \u001b[1;32mIn [14], line 20\u001b[0m\n\u001b[0;32m     10\u001b[0m renk \u001b[39m=\u001b[39m \u001b[39minput\u001b[39m(\u001b[39m\"\u001b[39m\u001b[39mrenk\u001b[39m\u001b[39m\"\u001b[39m)\n\u001b[0;32m     12\u001b[0m bilgi\u001b[39m.\u001b[39mupdate({\n\u001b[0;32m     13\u001b[0m      \n\u001b[0;32m     14\u001b[0m         \u001b[39m'\u001b[39m\u001b[39mad\u001b[39m\u001b[39m'\u001b[39m: name,\n\u001b[1;32m   (...)\u001b[0m\n\u001b[0;32m     18\u001b[0m     \n\u001b[0;32m     19\u001b[0m })\n\u001b[1;32m---> 20\u001b[0m bilgi\u001b[39m.\u001b[39mupdate({key[ad]: value\u001b[39m.\u001b[39mlower()})\n",
      "\u001b[1;31mNameError\u001b[0m: name 'key' is not defined"
     ]
    }
   ],
   "source": [
    "from multiprocessing.sharedctypes import Value\n",
    "\n",
    "\n",
    "bilgi = {}\n",
    "\n",
    "\n",
    "name = input(\"adı: \")\n",
    "surname = input(\"soyad: \")\n",
    "yas = input(\"Yaş: \")\n",
    "renk = input(\"renk\")\n",
    "\n",
    "bilgi.update({\n",
    "     \n",
    "        'ad': name,\n",
    "        'soyad': surname,\n",
    "        'yas':yas,\n",
    "        \"renk\":renk\n",
    "    \n",
    "})\n",
    "bilgi.update({key[ad]: value.lower()})\n"
   ]
  },
  {
   "cell_type": "code",
   "execution_count": 29,
   "metadata": {},
   "outputs": [
    {
     "ename": "SyntaxError",
     "evalue": "closing parenthesis '}' does not match opening parenthesis '(' (1256317563.py, line 9)",
     "output_type": "error",
     "traceback": [
      "\u001b[1;36m  Cell \u001b[1;32mIn [29], line 9\u001b[1;36m\u001b[0m\n\u001b[1;33m    my_dict.update({i:my_dict[i]}})\u001b[0m\n\u001b[1;37m                                 ^\u001b[0m\n\u001b[1;31mSyntaxError\u001b[0m\u001b[1;31m:\u001b[0m closing parenthesis '}' does not match opening parenthesis '('\n"
     ]
    }
   ],
   "source": [
    "\n",
    "a= int(input(\"a\"))\n",
    "b= int(input(\"b\"))\n",
    "my_dict={}\n",
    "\n",
    "\n",
    "for i in range(a,b+1):\n",
    "    my_dict[i]=i**2\n",
    "\n",
    "my_dict.update({i:my_dict[i]}})\n",
    "my_dict\n",
    "\n",
    "\n"
   ]
  },
  {
   "cell_type": "code",
   "execution_count": 12,
   "metadata": {},
   "outputs": [
    {
     "data": {
      "text/plain": [
       "{'ad': 'sena', 'soyad': 'sezgin', 'yas': '25', 'renk': 'turuncu'}"
      ]
     },
     "execution_count": 12,
     "metadata": {},
     "output_type": "execute_result"
    }
   ],
   "source": [
    "bilgi"
   ]
  },
  {
   "cell_type": "code",
   "execution_count": 31,
   "metadata": {},
   "outputs": [
    {
     "data": {
      "text/plain": [
       "{4: 16, 5: 25, 6: 36, 7: 49, 8: 64, 9: 9}"
      ]
     },
     "execution_count": 31,
     "metadata": {},
     "output_type": "execute_result"
    }
   ],
   "source": [
    "a= int(input(\"a\"))\n",
    "b= int(input(\"b\"))\n",
    "my_dict={}\n",
    "\n",
    "\n",
    "for i in range(a,b+1):\n",
    "    my_dict[i]=i**2\n",
    "\n",
    "my_dict.update({i:b})\n",
    "my_dict\n"
   ]
  },
  {
   "cell_type": "code",
   "execution_count": 33,
   "metadata": {},
   "outputs": [],
   "source": [
    "myUsers = [\n",
    "    {\n",
    "        \"Name\":\"Rosalind\",\n",
    "        \"Surname\": \"Rich\",\n",
    "        \"Age\": 23\n",
    "    }\n",
    "    ,{\n",
    "        \"Name\":\"Annika\",\n",
    "        \"Surname\": \"Keenan\",\n",
    "        \"Age\": 28\n",
    "    }\n",
    "    ,{\n",
    "        \"Name\":\"Emillie\",\n",
    "        \"Surname\": \"Plummer\",\n",
    "        \"Age\": 17\n",
    "    }\n",
    "    ,{\n",
    "        \"Name\":\"Kourtney\",\n",
    "        \"Surname\": \"Pate\",\n",
    "        \"Age\": 30\n",
    "    }\n",
    "    ,{\n",
    "        \"Name\":\"Virgil\",\n",
    "        \"Surname\": \"Solomon\",\n",
    "        \"Age\": 40\n",
    "    }\n",
    "    ,{\n",
    "        \"Name\":\"Bobby\",\n",
    "        \"Surname\": \"Jordan\",\n",
    "        \"Age\":33\n",
    "    }\n",
    "    ,{\n",
    "        \"Name\":\"Alfie\",\n",
    "        \"Surname\":\"James Robson\",\n",
    "        \"Age\": 16\n",
    "    } \n",
    "    ,{\n",
    "        \"Name\":\"Isla\",\n",
    "        \"Surname\":\"Grace Tran\",\n",
    "        \"Age\": 64\n",
    "    } \n",
    "    ,{\n",
    "        \"Name\":\"Arif\",\n",
    "        \"Surname\": \"Rivas\",\n",
    "        \"Age\": 43\n",
    "    }\n",
    "    ,{\n",
    "        \"Name\":\"Zakaria\",\n",
    "        \"Surname\": \"Whitehead\",\n",
    "        \"Age\": 82\n",
    "    }\n",
    "    ,{\n",
    "        \"Name\":\"Casper\",\n",
    "        \"Surname\": \"Velasquez\",\n",
    "        \"Age\": 57\n",
    "    }\n",
    "    ,{\n",
    "        \"Name\":\"Caoimhe\",\n",
    "        \"Surname\": \"Ali\",\n",
    "        \"Age\": 34\n",
    "    }\n",
    "    ,{\n",
    "        \"Name\":\"Viola\",\n",
    "        \"Surname\": \"Shepherd\",\n",
    "        \"Age\": 18\n",
    "    }\n",
    "]\n",
    "\n"
   ]
  },
  {
   "cell_type": "code",
   "execution_count": 43,
   "metadata": {},
   "outputs": [
    {
     "name": "stdout",
     "output_type": "stream",
     "text": [
      "{'Name': 'Rosalind', 'Surname': 'Rich', 'Age': 23}\n",
      "{'Name': 'Annika', 'Surname': 'Keenan', 'Age': 28}\n",
      "{'Name': 'Kourtney', 'Surname': 'Pate', 'Age': 30}\n",
      "{'Name': 'Virgil', 'Surname': 'Solomon', 'Age': 40}\n",
      "{'Name': 'Bobby', 'Surname': 'Jordan', 'Age': 33}\n",
      "{'Name': 'Isla', 'Surname': 'Grace Tran', 'Age': 64}\n",
      "{'Name': 'Arif', 'Surname': 'Rivas', 'Age': 43}\n",
      "{'Name': 'Zakaria', 'Surname': 'Whitehead', 'Age': 82}\n",
      "{'Name': 'Casper', 'Surname': 'Velasquez', 'Age': 57}\n",
      "{'Name': 'Caoimhe', 'Surname': 'Ali', 'Age': 34}\n"
     ]
    }
   ],
   "source": [
    "for user in myUsers:\n",
    "    if user[\"Age\"] >20:\n",
    "        print(user)\n"
   ]
  },
  {
   "cell_type": "code",
   "execution_count": 44,
   "metadata": {},
   "outputs": [
    {
     "name": "stdout",
     "output_type": "stream",
     "text": [
      "{'Name': 'Annika', 'Surname': 'Keenan', 'Age': 28}\n",
      "{'Name': 'Alfie', 'Surname': 'James Robson', 'Age': 16}\n",
      "{'Name': 'Arif', 'Surname': 'Rivas', 'Age': 43}\n"
     ]
    }
   ],
   "source": [
    "for user in myUsers:\n",
    "    if \"a\" and \"A\"in user[\"Name\"]:\n",
    "        print(user)\n"
   ]
  },
  {
   "cell_type": "code",
   "execution_count": null,
   "metadata": {},
   "outputs": [],
   "source": []
  },
  {
   "cell_type": "code",
   "execution_count": null,
   "metadata": {},
   "outputs": [],
   "source": []
  },
  {
   "cell_type": "markdown",
   "metadata": {},
   "source": [
    "Verilen iki set için aşağıdaki işlemleri yapınız;\n",
    "- İki set arasındaki farkı ekrana yazdırınız.\n",
    "- İki set içerisinde ortak olanları ekrana yazdırınız.\n",
    "- İki seti birleştirip ekrana yazdırınız.\n",
    "- İlk set içerisinde olmayıp ikinci set içerisinde olan değerleri ekrana yazdırınız.\n",
    "- İkinci set içerisinde olmayıp ilk set içerisinde olan değerleri ekrana yazdırınız.\n",
    "\n",
    "```python\n",
    "set1 = {True, False, 1, 2, 3, 4, 's', 'i', 's', 't', 'e'}\n",
    "set2 = {'r', 's', 'l', 'a', 'b', None, 6, 7, 8, 9}\n"
   ]
  },
  {
   "cell_type": "code",
   "execution_count": 2,
   "metadata": {},
   "outputs": [],
   "source": [
    "set1 = {True, False, 1, 2, 3, 4, 's', 'i', 's', 't', 'e'}\n",
    "set2 = {'r', 's', 'l', 'a', 'b', None, 6, 7, 8, 9}\n"
   ]
  },
  {
   "cell_type": "code",
   "execution_count": 5,
   "metadata": {},
   "outputs": [
    {
     "data": {
      "text/plain": [
       "{'s'}"
      ]
     },
     "execution_count": 5,
     "metadata": {},
     "output_type": "execute_result"
    }
   ],
   "source": [
    "\n",
    "my_set3 = set1 & set2\n",
    "\n",
    "my_set3"
   ]
  },
  {
   "cell_type": "code",
   "execution_count": 6,
   "metadata": {},
   "outputs": [
    {
     "data": {
      "text/plain": [
       "{2, 3, 4, 6, 7, 8, 9, False, None, True, 'a', 'b', 'e', 'i', 'l', 'r', 't'}"
      ]
     },
     "execution_count": 6,
     "metadata": {},
     "output_type": "execute_result"
    }
   ],
   "source": [
    "unique_set = set1 ^ set2\n",
    "unique_set"
   ]
  },
  {
   "cell_type": "code",
   "execution_count": 8,
   "metadata": {},
   "outputs": [
    {
     "data": {
      "text/plain": [
       "{2,\n",
       " 3,\n",
       " 4,\n",
       " 6,\n",
       " 7,\n",
       " 8,\n",
       " 9,\n",
       " False,\n",
       " None,\n",
       " True,\n",
       " 'a',\n",
       " 'b',\n",
       " 'e',\n",
       " 'i',\n",
       " 'l',\n",
       " 'r',\n",
       " 's',\n",
       " 't'}"
      ]
     },
     "execution_count": 8,
     "metadata": {},
     "output_type": "execute_result"
    }
   ],
   "source": [
    "my_set4 = set1 | set2\n",
    "my_set4"
   ]
  },
  {
   "cell_type": "code",
   "execution_count": 4,
   "metadata": {},
   "outputs": [
    {
     "data": {
      "text/plain": [
       "'ab'"
      ]
     },
     "execution_count": 4,
     "metadata": {},
     "output_type": "execute_result"
    }
   ],
   "source": [
    "\"a\" + \"b\""
   ]
  },
  {
   "cell_type": "code",
   "execution_count": 6,
   "metadata": {},
   "outputs": [
    {
     "data": {
      "text/plain": [
       "'merhaba'"
      ]
     },
     "execution_count": 6,
     "metadata": {},
     "output_type": "execute_result"
    }
   ],
   "source": [
    "ifade = \"Merhaba!\"\n",
    "ifade = ifade.lower()\n",
    "ifade = ifade.replace(\"!\",\"\")\n",
    "ifade"
   ]
  },
  {
   "cell_type": "code",
   "execution_count": 7,
   "metadata": {},
   "outputs": [
    {
     "data": {
      "text/plain": [
       "'91'"
      ]
     },
     "execution_count": 7,
     "metadata": {},
     "output_type": "execute_result"
    }
   ],
   "source": [
    "\"9\" + \"1\""
   ]
  },
  {
   "cell_type": "code",
   "execution_count": 8,
   "metadata": {},
   "outputs": [
    {
     "data": {
      "text/plain": [
       "str"
      ]
     },
     "execution_count": 8,
     "metadata": {},
     "output_type": "execute_result"
    }
   ],
   "source": [
    "ifade = \"selam\"\n",
    "type(ifade)"
   ]
  },
  {
   "cell_type": "code",
   "execution_count": 9,
   "metadata": {},
   "outputs": [
    {
     "data": {
      "text/plain": [
       "'b'"
      ]
     },
     "execution_count": 9,
     "metadata": {},
     "output_type": "execute_result"
    }
   ],
   "source": [
    "a = \"bu uzun bir metindir\"\n",
    "a[8]"
   ]
  },
  {
   "cell_type": "code",
   "execution_count": 10,
   "metadata": {},
   "outputs": [
    {
     "data": {
      "text/plain": [
       "'Merhaba! '"
      ]
     },
     "execution_count": 10,
     "metadata": {},
     "output_type": "execute_result"
    }
   ],
   "source": [
    "ifade = \"Merhaba! \"\n",
    "ifade.strip(\"\")"
   ]
  },
  {
   "cell_type": "code",
   "execution_count": 1,
   "metadata": {},
   "outputs": [
    {
     "data": {
      "text/plain": [
       "{6}"
      ]
     },
     "execution_count": 1,
     "metadata": {},
     "output_type": "execute_result"
    }
   ],
   "source": [
    "set1 = set([5,7,9])\n",
    "set2 = set([5,6,7])\n",
    "set2.difference(set1)"
   ]
  },
  {
   "cell_type": "code",
   "execution_count": 5,
   "metadata": {},
   "outputs": [
    {
     "data": {
      "text/plain": [
       "{9}"
      ]
     },
     "execution_count": 5,
     "metadata": {},
     "output_type": "execute_result"
    }
   ],
   "source": [
    "set1 = set([5,7,9])\n",
    "set2 = set([5,6,7])\n",
    "set1.difference(set2)"
   ]
  },
  {
   "cell_type": "code",
   "execution_count": 7,
   "metadata": {},
   "outputs": [
    {
     "data": {
      "text/plain": [
       "{'reg': 'regresyon modeli',\n",
       " 'loj': 'lojistik regresyon',\n",
       " 'cart': 'classification and regression trees',\n",
       " 0: 'gradient boosting machines',\n",
       " 'gbm': 'gradient boosting machines'}"
      ]
     },
     "execution_count": 7,
     "metadata": {},
     "output_type": "execute_result"
    }
   ],
   "source": [
    "sozluk = {\"reg\" : \"regresyon modeli\",\n",
    "\"loj\" : \"lojistik regresyon\",\n",
    "\"cart\" : \"classification and regression trees\"}\n",
    "sozluk[0] = \"gradient boosting machines\"\n",
    "sozluk[\"gbm\"] = \"gradient boosting machines\"\n",
    "sozluk"
   ]
  },
  {
   "cell_type": "code",
   "execution_count": 8,
   "metadata": {},
   "outputs": [
    {
     "data": {
      "text/plain": [
       "4"
      ]
     },
     "execution_count": 8,
     "metadata": {},
     "output_type": "execute_result"
    }
   ],
   "source": [
    "def islem(x,y):\n",
    "    A = [x,y]\n",
    "    return A[0] + A[1]\n",
    "\n",
    "islem(1,3)"
   ]
  },
  {
   "cell_type": "code",
   "execution_count": 13,
   "metadata": {},
   "outputs": [],
   "source": [
    "def islem(x):\n",
    "    if (x<0):\n",
    "        return \"NO\"\n",
    "    else:\n",
    "        x*5\n",
    " \n",
    "islem(2)"
   ]
  },
  {
   "cell_type": "code",
   "execution_count": 14,
   "metadata": {},
   "outputs": [
    {
     "name": "stdout",
     "output_type": "stream",
     "text": [
      "yes\n"
     ]
    }
   ],
   "source": [
    "if [1,2,3,4][1] == 2:\n",
    "    print(\"YES\".lower())\n",
    "else:\n",
    "    print(\"NO\")"
   ]
  },
  {
   "cell_type": "code",
   "execution_count": 15,
   "metadata": {},
   "outputs": [
    {
     "name": "stdout",
     "output_type": "stream",
     "text": [
      "a\n",
      "11\n"
     ]
    }
   ],
   "source": [
    "for i in [\"a\",11]:\n",
    "    print(i)"
   ]
  },
  {
   "cell_type": "code",
   "execution_count": 18,
   "metadata": {},
   "outputs": [
    {
     "name": "stdout",
     "output_type": "stream",
     "text": [
      "gelecegi yazanlar\n"
     ]
    }
   ],
   "source": [
    "def yazdir(metin):\n",
    "    print(metin, \"yazanlar\")\n",
    " \n",
    "yazdir(\"gelecegi\")"
   ]
  },
  {
   "cell_type": "code",
   "execution_count": 19,
   "metadata": {},
   "outputs": [
    {
     "data": {
      "text/plain": [
       "1"
      ]
     },
     "execution_count": 19,
     "metadata": {},
     "output_type": "execute_result"
    }
   ],
   "source": [
    "A = []\n",
    "\n",
    "for i in [1,2,3,4]:\n",
    "    A.append(i)\n",
    "\n",
    "A[0]"
   ]
  },
  {
   "cell_type": "code",
   "execution_count": 20,
   "metadata": {},
   "outputs": [
    {
     "name": "stdout",
     "output_type": "stream",
     "text": [
      "Merhaba!\n"
     ]
    }
   ],
   "source": [
    "def mesaj():\n",
    "    print(\"Merhaba!\")    \n",
    "    \n",
    "mesaj() "
   ]
  },
  {
   "cell_type": "code",
   "execution_count": 21,
   "metadata": {},
   "outputs": [
    {
     "name": "stdout",
     "output_type": "stream",
     "text": [
      "*12*\n"
     ]
    }
   ],
   "source": [
    "A = 12    \n",
    "if type(A) == str:\n",
    "    A = A.strip(\"*\")\n",
    "    print(A)    \n",
    "else:\n",
    "    A  = \"*\" + str(A) + \"*\"\n",
    "    print(A.strip())"
   ]
  },
  {
   "cell_type": "code",
   "execution_count": 22,
   "metadata": {},
   "outputs": [
    {
     "data": {
      "text/plain": [
       "'b'"
      ]
     },
     "execution_count": 22,
     "metadata": {},
     "output_type": "execute_result"
    }
   ],
   "source": [
    "A = []\n",
    "B = []\n",
    "\n",
    "for i in [1,\"a\",12,\"b\"]:\n",
    "    if type(i) == int:\n",
    "        B.append(i)\n",
    "    else:\n",
    "        A.append(i)\n",
    "\n",
    "A[1]"
   ]
  },
  {
   "cell_type": "code",
   "execution_count": 23,
   "metadata": {},
   "outputs": [
    {
     "name": "stdout",
     "output_type": "stream",
     "text": [
      "4\n",
      "16\n",
      "36\n",
      "64\n"
     ]
    }
   ],
   "source": [
    "a = [2,4,6,8]\n",
    "for i in a:\n",
    "    print(i**2)"
   ]
  },
  {
   "cell_type": "code",
   "execution_count": 31,
   "metadata": {},
   "outputs": [
    {
     "name": "stdout",
     "output_type": "stream",
     "text": [
      "8\n"
     ]
    }
   ],
   "source": [
    "\n",
    "def harf_say(x):\n",
    "    print(len(x))\n",
    " \n",
    "harf_say(\"Merhaba!\")"
   ]
  }
 ],
 "metadata": {
  "kernelspec": {
   "display_name": "Python 3.10.7 64-bit",
   "language": "python",
   "name": "python3"
  },
  "language_info": {
   "codemirror_mode": {
    "name": "ipython",
    "version": 3
   },
   "file_extension": ".py",
   "mimetype": "text/x-python",
   "name": "python",
   "nbconvert_exporter": "python",
   "pygments_lexer": "ipython3",
   "version": "3.10.7"
  },
  "orig_nbformat": 4,
  "vscode": {
   "interpreter": {
    "hash": "fa8af0cc1927a15d37d0c6a05a578f184341335e7f035027322b44b8322fd6ef"
   }
  }
 },
 "nbformat": 4,
 "nbformat_minor": 2
}
