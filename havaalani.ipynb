{
 "cells": [],
 "metadata": {
  "kernelspec": {
   "display_name": "Python 3.11.0 64-bit",
   "language": "python",
   "name": "python3"
  },
  "language_info": {
   "name": "python",
   "version": "3.11.0"
  },
  "orig_nbformat": 4,
  "vscode": {
   "interpreter": {
    "hash": "16b476dd0840967def729226295593b1e8d0fc2e935b165bc49d0efadf670af0"
   }
  }
 },
 "nbformat": 4,
 "nbformat_minor": 2
}
