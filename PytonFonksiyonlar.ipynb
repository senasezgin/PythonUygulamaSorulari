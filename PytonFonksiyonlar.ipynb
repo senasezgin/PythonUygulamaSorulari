{
  "cells": [
    {
      "attachments": {},
      "cell_type": "markdown",
      "metadata": {
        "id": "NHz4r5Me-AGT"
      },
      "source": [
        "Şekli çiziniz\n",
        "**********\n",
        "*        *\n",
        "*        *\n",
        "*        *\n",
        "*        *\n",
        "*        *\n",
        "*        *\n",
        "*        *\n",
        "*        *\n",
        "**********"
      ]
    },
    {
      "cell_type": "code",
      "execution_count": 4,
      "metadata": {},
      "outputs": [
        {
          "name": "stdout",
          "output_type": "stream",
          "text": [
            "**********\n",
            "*        *\n",
            "*        *\n",
            "*        *\n",
            "*        *\n",
            "*        *\n",
            "*        *\n",
            "*        *\n",
            "*        *\n",
            "**********\n"
          ]
        }
      ],
      "source": [
        "m, n = 10, 10\n",
        "for i in range(m):\n",
        "    for j in range(n):\n",
        "        print('*' if i in [0, n-1] or j in [0, m-1] else ' ', end='')\n",
        "    print()\n"
      ]
    },
    {
      "cell_type": "code",
      "execution_count": 3,
      "metadata": {
        "id": "vZbNQ-_I-Bs9"
      },
      "outputs": [
        {
          "name": "stdout",
          "output_type": "stream",
          "text": [
            "**********\n",
            "*        *\n",
            "*        *\n",
            "*        *\n",
            "*        *\n",
            "*        *\n",
            "*        *\n",
            "*        *\n",
            "*        *\n",
            "**********\n"
          ]
        }
      ],
      "source": [
        "m, n = 10, 10\n",
        "for i in range(m):\n",
        "    for j in range(n):\n",
        "        print('*' if i in [0, n-1] or j in [0, m-1] else ' ', end='')\n",
        "    print()\n",
        "\n"
      ]
    },
    {
      "cell_type": "code",
      "execution_count": 2,
      "metadata": {},
      "outputs": [
        {
          "name": "stdout",
          "output_type": "stream",
          "text": [
            "********\n",
            "*      *\n",
            "*      *\n",
            "*      *\n",
            "*      *\n",
            "*      *\n",
            "*      *\n",
            "*      *\n",
            "********\n",
            "********\n",
            "*      *\n",
            "*      *\n",
            "*      *\n",
            "*      *\n",
            "*      *\n",
            "*      *\n",
            "********\n"
          ]
        }
      ],
      "source": [
        "rowCount = int(input())\n",
        "\n",
        "for rowIndex in range(rowCount + 1):\n",
        "  if rowIndex == 0 or rowIndex == rowCount:\n",
        "    print(rowCount * '*')\n",
        "  else:\n",
        "    print('*' + (rowCount - 2) * ' ' + '*')\n",
        "\n",
        "#row-column\n",
        "for rowIndex in range(rowCount):\n",
        "  for columnIndex in range(rowCount):\n",
        "    if rowIndex == 0 or rowIndex == rowCount - 1 or columnIndex == 0 or columnIndex == rowCount - 1:\n",
        "      print('*', end = \"\")\n",
        "    else:\n",
        "      print(' ', end = \"\")\n",
        "  print()"
      ]
    },
    {
      "cell_type": "code",
      "execution_count": 1,
      "metadata": {},
      "outputs": [
        {
          "name": "stdout",
          "output_type": "stream",
          "text": [
            "*****\n",
            "*   *\n",
            "*   *\n",
            "*   *\n",
            "*****\n"
          ]
        }
      ],
      "source": [
        "size = 5\n",
        "for i in range(1,size+1):\n",
        "    if (i==1 or i==size):\n",
        "        print(\"*\"*size)\n",
        "    else:\n",
        "        print(\"*\"+\" \"*(size-2),end=\"\")\n",
        "        print(\"*\")"
      ]
    },
    {
      "cell_type": "markdown",
      "metadata": {
        "id": "5Ol2Rntz-CMw"
      },
      "source": [
        "Soru 2\n",
        "Bir global değişken tanımlayıp bu değişkene bir fonksiyon erişip değerini değiştiriniz.(Fonksiyonun değer değiştirme dışında bir şey yapmasına gerek yoktur.)"
      ]
    },
    {
      "cell_type": "code",
      "execution_count": 64,
      "metadata": {
        "id": "8SB-reEK-FcN"
      },
      "outputs": [
        {
          "name": "stdout",
          "output_type": "stream",
          "text": [
            "10\n"
          ]
        }
      ],
      "source": [
        "global_deger = 5\n",
        "\n",
        "def degistir():\n",
        "    global_deger = 10\n",
        "    return global_deger\n",
        "\n",
        "print(degistir())"
      ]
    },
    {
      "attachments": {},
      "cell_type": "markdown",
      "metadata": {},
      "source": [
        "Soru 3\n",
        "- Aşağıdaki şekilde 20 satır ve kolon vardır. Fakat kullanıcıdan girilen değere göre değişiklik gösterebilir.\n",
        "- Şekil tek sayıda satır ve kolon ile beraber çizilmeye çalışıldığında düzgün sonuç vermeyebilir. Bundan dolayı kullanıcıdan alınan değeri 2 ile çarpabilirsiniz.\n",
        "\n",
        "```python\n",
        "********************\n",
        "**                **\n",
        "* *              * *\n",
        "*  *            *  *\n",
        "*   *          *   *\n",
        "*    *        *    *\n",
        "*     *      *     *\n",
        "*      *    *      *\n",
        "*       *  *       *\n",
        "*        **        *\n",
        "*        **        *\n",
        "*       *  *       *\n",
        "*      *    *      *\n",
        "*     *      *     *\n",
        "*    *        *    *\n",
        "*   *          *   *\n",
        "*  *            *  *\n",
        "* *              * *\n",
        "**                **\n",
        "********************\n",
        "```"
      ]
    },
    {
      "cell_type": "code",
      "execution_count": null,
      "metadata": {},
      "outputs": [],
      "source": [
        "rowCount = int(input())\n",
        "\n",
        "for rowIndex in range(rowCount):\n",
        "  if rowIndex == 0 or rowIndex == rowCount - 1:\n",
        "    print(rowCount * '*')\n",
        "  else:\n",
        "      if rowCount % 2 == 1:\n",
        "          if rowIndex < rowCount // 2:\n",
        "            print('*' + (rowIndex - 1) * ' '+ '*'+(rowCount - (rowIndex * 2) - 2) * ' '  + '*' + (rowIndex - 1) * ' ' + '*')\n",
        "          elif rowIndex == rowCount // 2:\n",
        "            print('*' + (rowCount - rowIndex - 2) * ' '+ '*'+ 2 * (rowIndex - (rowCount // 2)) * ' ' + (rowCount - rowIndex - 2) * ' ' + '*')\n",
        "          else:\n",
        "            print('*' + (rowCount - rowIndex - 2) * ' '+ '*'+ (2 * (rowIndex - (rowCount // 2)) - 1) * ' '  + '*' + (rowCount - rowIndex - 2) * ' ' + '*')\n",
        "      else:\n",
        "        if rowIndex < rowCount // 2:\n",
        "          print('*' + (rowIndex - 1) * ' '+ '*'+(rowCount - (rowIndex * 2) - 2) * ' '  + '*' + (rowIndex - 1) * ' ' + '*')\n",
        "        else:\n",
        "          print('*' + (rowCount - rowIndex - 2) * ' '+ '*'+ 2 * (rowIndex - (rowCount // 2)) * ' '  + '*' + (rowCount - rowIndex - 2) * ' ' + '*')\n",
        "\n",
        "#row-column\n",
        "for rowIndex in range(rowCount):\n",
        "    for columnIndex in range(rowCount):\n",
        "        if (rowIndex == 0 or rowIndex == rowCount - 1 \n",
        "                or columnIndex == 0 or columnIndex == rowCount -1 \n",
        "                or rowIndex == columnIndex or columnIndex == (rowCount - rowIndex - 1)):\n",
        "            print('*', end=\"\")\n",
        "        else:\n",
        "            print(' ', end=\"\")\n",
        "    print()\n"
      ]
    },
    {
      "attachments": {},
      "cell_type": "markdown",
      "metadata": {
        "id": "lSrFPLDn-JTm"
      },
      "source": [
        "Soru 4\n",
        "Kullanıcıdan alınan sayının faktöriyelini hesaplayan bir fonksiyon yazınız."
      ]
    },
    {
      "cell_type": "code",
      "execution_count": 63,
      "metadata": {
        "id": "W-YSjJA3-NG1"
      },
      "outputs": [
        {
          "name": "stdout",
          "output_type": "stream",
          "text": [
            "90\n"
          ]
        }
      ],
      "source": [
        "def faktoriyel(sayi):\n",
        "    faktoriyel = 1\n",
        "    if (sayi == 0 or sayi == 1):\n",
        "        print(\"Faktoriyel: \", faktoriyel)\n",
        "    else:\n",
        "        while (sayi >= 1):\n",
        "            faktoriyel *= sayi\n",
        "            sayi -= 1\n",
        "        print(\"Faktoriyel: \", faktoriyel)"
      ]
    },
    {
      "attachments": {},
      "cell_type": "markdown",
      "metadata": {
        "id": "7HPZZdoe-NOj"
      },
      "source": [
        "Soru 5\n",
        "Kullanıcıdan alınan sayının faktoriyeli hesaplayan recursive bir fonksiyon yazınız."
      ]
    },
    {
      "cell_type": "code",
      "execution_count": 1,
      "metadata": {
        "id": "hPrJ-dBv-SD7"
      },
      "outputs": [],
      "source": [
        "def faktoriyel(sayi):\n",
        "    if (sayi == 0 or sayi == 1):\n",
        "        return 1\n",
        "    else:\n",
        "        return sayi * faktoriyel(sayi - 1)\n",
        "        \n",
        "\n"
      ]
    },
    {
      "attachments": {},
      "cell_type": "markdown",
      "metadata": {
        "id": "dGFn5sk0-bl9"
      },
      "source": [
        "Soru 6\n",
        "Kullanıcıdan alınan iki sayının ebob ve ekok değerlerini hesaplayan ve bu değerleri dönen bir fonksiyon yazınız.\n",
        "\n",
        "Fonksiyon parametre olarak kullanıcının girdiği 2 sayıyı almalı.\n",
        "Fonksiyon ebob ve ekok değerlerini dönmeli.\n",
        "\n"
      ]
    },
    {
      "cell_type": "code",
      "execution_count": null,
      "metadata": {
        "id": "dk443er6-fz2"
      },
      "outputs": [],
      "source": [
        "def ebob_ekok(sayi1, sayi2):\n",
        "    i = 1\n",
        "    ebob = 1\n",
        "    while (i <= sayi1 and i <= sayi2):\n",
        "        if (not (sayi1 % i) and not (sayi2 % i)):\n",
        "            ebob = i\n",
        "        i += 1\n",
        "    ekok = (sayi1 * sayi2) / ebob\n",
        "    return ebob, ekok"
      ]
    },
    {
      "attachments": {},
      "cell_type": "markdown",
      "metadata": {
        "id": "BwIXHZ5Z-iCS"
      },
      "source": [
        "Soru 7\n",
        "Kendisine verilen tam sayının mükemmel sayı olup olmadığını dönen bir fonksiyon yazınız.\n",
        "\n",
        "Mükemmel sayı, kendisi hariç pozitif tam bölenlerinin toplamı kendisine eşit olan sayıdır. Örneğin 28 sayısının tam bölenlerine bakalım: 1, 2, 4, 7, 14 bu sayıların toplamı 28'e eşit olduğu için 28 mükemmel sayıdır."
      ]
    },
    {
      "cell_type": "code",
      "execution_count": 5,
      "metadata": {},
      "outputs": [
        {
          "name": "stdout",
          "output_type": "stream",
          "text": [
            "True\n"
          ]
        }
      ],
      "source": [
        "sayi= int(input(\"Sayı giriniz: \"))\n",
        "def mukemmel(sayi):\n",
        "    toplam = 0\n",
        "    for i in range(1, sayi):\n",
        "        if (sayi % i == 0):\n",
        "            toplam += i\n",
        "    if (toplam == sayi):\n",
        "        return True\n",
        "    else:\n",
        "        return False\n",
        "\n",
        "\n",
        "print(mukemmel(28))      \n"
      ]
    },
    {
      "attachments": {},
      "cell_type": "markdown",
      "metadata": {},
      "source": [
        "Soru 8\n",
        "Verilen aralıkta bulunan mükemmel sayıları ekrana yazdıran bir fonksiyon yazınız"
      ]
    },
    {
      "cell_type": "code",
      "execution_count": null,
      "metadata": {},
      "outputs": [],
      "source": [
        "\n",
        "sayi1 = int(input(\"Başlangıç sayısını giriniz: \"))\n",
        "sayi2 = int(input(\"Bitiş sayısını giriniz: \"))\n",
        "for i in range(sayi1, sayi2 + 1):\n",
        "    if (mukemmel(i)):\n",
        "        print(i, \"mükemmel sayıdır.\")"
      ]
    },
    {
      "attachments": {},
      "cell_type": "markdown",
      "metadata": {},
      "source": [
        "Soru 9\n",
        "Kendisine verilen 3 sayının en büyüğünü ve en küçüğünü dönen bir fonksiyon yazınız."
      ]
    },
    {
      "cell_type": "code",
      "execution_count": null,
      "metadata": {},
      "outputs": [],
      "source": [
        "def en_buyuk_en_kucuk(sayi1, sayi2, sayi3):\n",
        "    en_buyuk = sayi1\n",
        "    en_kucuk = sayi1\n",
        "    if (sayi2 > en_buyuk):\n",
        "        en_buyuk = sayi2\n",
        "    if (sayi3 > en_buyuk):\n",
        "        en_buyuk = sayi3\n",
        "    if (sayi2 < en_kucuk):\n",
        "        en_kucuk = sayi2\n",
        "    if (sayi3 < en_kucuk):\n",
        "        en_kucuk = sayi3\n",
        "    return en_buyuk, en_kucuk"
      ]
    }
  ],
  "metadata": {
    "colab": {
      "collapsed_sections": [],
      "provenance": []
    },
    "kernelspec": {
      "display_name": "Python 3.10.7 64-bit",
      "language": "python",
      "name": "python3"
    },
    "language_info": {
      "codemirror_mode": {
        "name": "ipython",
        "version": 3
      },
      "file_extension": ".py",
      "mimetype": "text/x-python",
      "name": "python",
      "nbconvert_exporter": "python",
      "pygments_lexer": "ipython3",
      "version": "3.10.7 (tags/v3.10.7:6cc6b13, Sep  5 2022, 14:08:36) [MSC v.1933 64 bit (AMD64)]"
    },
    "vscode": {
      "interpreter": {
        "hash": "fa8af0cc1927a15d37d0c6a05a578f184341335e7f035027322b44b8322fd6ef"
      }
    }
  },
  "nbformat": 4,
  "nbformat_minor": 0
}
