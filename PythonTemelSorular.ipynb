{
  "cells": [
    {
      "cell_type": "markdown",
      "metadata": {
        "id": "NHz4r5Me-AGT"
      },
      "source": [
        "\n",
        "1. 3 tane farklı değişken tanımlayıp bu değişkenlerin hepsine aynı değeri atınız ve bunu olabilecek en kısa yoldan yapınız :)"
      ]
    },
    {
      "cell_type": "code",
      "execution_count": 1,
      "metadata": {
        "id": "vZbNQ-_I-Bs9"
      },
      "outputs": [
        {
          "name": "stdout",
          "output_type": "stream",
          "text": [
            "6 6 6\n"
          ]
        }
      ],
      "source": [
        "a = b = c = 6\n",
        "print(a,b,c)"
      ]
    },
    {
      "cell_type": "markdown",
      "metadata": {
        "id": "5Ol2Rntz-CMw"
      },
      "source": [
        "2. Bir global değişken tanımlayıp bu değişkene bir fonksiyon erişip değerini değiştiriniz.(Fonksiyonun değer değiştirme dışında bir şey yapmasına gerek yoktur.)"
      ]
    },
    {
      "cell_type": "code",
      "execution_count": 3,
      "metadata": {
        "id": "8SB-reEK-FcN"
      },
      "outputs": [
        {
          "name": "stdout",
          "output_type": "stream",
          "text": [
            "25\n"
          ]
        }
      ],
      "source": [
        "global_deger = 8\n",
        "\n",
        "def degistir():\n",
        "    global_deger = 25\n",
        "    return global_deger\n",
        "\n",
        "print(degistir())"
      ]
    },
    {
      "cell_type": "markdown",
      "metadata": {
        "id": "lSrFPLDn-JTm"
      },
      "source": [
        "3.Aşağıdaki kod bloğu çalıştığında çıkan sonuç ne olur?\n",
        "Hata verir mi? Verirse neyden kaynaklı bir hata verir ve nasıl düzeltebiliriz?\n",
        "\n",
        "globalVariable = 50\n",
        "\n",
        "def add50toGlobal():\n",
        "    globalVariable += 50\n",
        "\n",
        "def add30toGlobal():\n",
        "    globalVariable += 30\n",
        "\n",
        "def add10toGlobal():\n",
        "    global globalVariable\n",
        "    globalVariable += 10\n",
        "\n",
        "add10toGlobal()\n",
        "add30toGlobal()\n",
        "\n",
        "print(globalVariable)"
      ]
    },
    {
      "cell_type": "code",
      "execution_count": 63,
      "metadata": {
        "id": "W-YSjJA3-NG1"
      },
      "outputs": [
        {
          "name": "stdout",
          "output_type": "stream",
          "text": [
            "90\n"
          ]
        }
      ],
      "source": [
        "globalVariable = 50\n",
        "\n",
        "def add50toGlobal():\n",
        "    global globalVariable\n",
        "    globalVariable += 50\n",
        "\n",
        "def add30toGlobal():\n",
        "    global globalVariable\n",
        "    globalVariable += 30\n",
        "\n",
        "def add10toGlobal():\n",
        "    global globalVariable\n",
        "    globalVariable +=10\n",
        "\n",
        "add10toGlobal()\n",
        "add30toGlobal()\n",
        "\n",
        "print(globalVariable)"
      ]
    },
    {
      "attachments": {},
      "cell_type": "markdown",
      "metadata": {
        "id": "7HPZZdoe-NOj"
      },
      "source": [
        "4. Aşağıdaki kod bloğunun istenilen çıktıyı vermesi için gerekli değişikleri yapınız.\n",
        "\n",
        " İstenilen Çıktı 'Hello Sisters'"
      ]
    },
    {
      "cell_type": "code",
      "execution_count": 56,
      "metadata": {
        "id": "hPrJ-dBv-SD7"
      },
      "outputs": [
        {
          "name": "stdout",
          "output_type": "stream",
          "text": [
            "Hello Sisters\n"
          ]
        }
      ],
      "source": [
        "\n",
        "helloStr = \"Hello\"\n",
        "sistersStr = \"Sisters\"\n",
        "conditionVal = 6.0\n",
        "\n",
        "if helloStr == \"Hello\" and sistersStr == 'Sisters' and type(conditionVal) == float and conditionVal > 5.1:\n",
        "    \n",
        "    print(helloStr,sistersStr)\n",
        "\n"
      ]
    },
    {
      "cell_type": "markdown",
      "metadata": {
        "id": "dGFn5sk0-bl9"
      },
      "source": [
        "5. Klavyeden girilen vize ve final notuna göre vizenin %40 ve finalin %60’ını alan ve sonucu ekranda gösteren kodu yazınız."
      ]
    },
    {
      "cell_type": "code",
      "execution_count": null,
      "metadata": {
        "id": "dk443er6-fz2"
      },
      "outputs": [],
      "source": [
        "vize = int(input(\"Vize notunuzu giriniz: \"))\n",
        "final = int(input(\"Final notunuzu giriniz: \"))\n",
        "ortalama = (vize*0.4) + (final*0.6)\n",
        "print(\"Ortalamanız: \",ortalama)"
      ]
    },
    {
      "cell_type": "markdown",
      "metadata": {
        "id": "BwIXHZ5Z-iCS"
      },
      "source": [
        "6. Kullanıcıdan 2 sayı alın ve bunları karşılaştırıp,\n",
        "* Sayılar eşit ise 'Sayılar Eşittir' yazdırınız.\n",
        "* Eşit değilse;\n",
        "    * Büyükten 5 çıkartıp ekrana yazdırınız.\n",
        "    * Küçüğü 3 ile çarpıp ekrana yazdırınız."
      ]
    },
    {
      "cell_type": "code",
      "execution_count": 39,
      "metadata": {
        "id": "BDDUTGi5-ln1"
      },
      "outputs": [
        {
          "name": "stdout",
          "output_type": "stream",
          "text": [
            "5\n",
            "0\n",
            "12\n"
          ]
        }
      ],
      "source": [
        "sayi1 = int(input(\"Birinci sayıyı giriniz: \"))\n",
        "sayi2 = int(input(\"İkinci sayıyı giriniz: \"))\n",
        "if sayi1 > sayi2:\n",
        "    print(sayi1)\n",
        "elif sayi1 < sayi2:\n",
        "    print(sayi2)\n",
        "else:\n",
        "    print(\"Sayılar Eşittir\")\n",
        "\n",
        "if sayi1 != sayi2:\n",
        "    print(sayi1-5)\n",
        "    print(sayi2*3)\n",
        "    \n",
        "\n"
      ]
    },
    {
      "cell_type": "markdown",
      "metadata": {
        "id": "a2TleLFp-mNh"
      },
      "source": [
        "7. Klavyeden girilen iki sayı arasındaki sayıları toplayan kodu yazınız."
      ]
    },
    {
      "cell_type": "code",
      "execution_count": null,
      "metadata": {
        "id": "yNTtvjA--sck"
      },
      "outputs": [],
      "source": [
        "sayi1 = int(input(\"Birinci sayıyı giriniz: \"))\n",
        "sayi2 = int(input(\"İkinci sayıyı giriniz: \"))\n",
        "toplam = sayi1 + sayi2\n",
        "print(\"Toplam: \",toplam)"
      ]
    },
    {
      "cell_type": "markdown",
      "metadata": {
        "id": "z2NEWhXW-v8L"
      },
      "source": [
        "8. Kullanıcıdan not ortalamasını girmesini isteyiniz. Not ortalamasına göre sınıf geçme durumunu gösteren kodu yazınız.\n",
        "\n",
        "Sınıf geçme şartları:\n",
        "\n",
        "-(0-50 arasında ise \"Kaldınız\",\n",
        "\n",
        "-50-100 aralığında ise \"Geçtiniz\",\n",
        "\n",
        "-Bu aralığa uymuyorsa \"Hatalı Değer\" mesajlarını ekrana yazdırınız.)"
      ]
    },
    {
      "cell_type": "code",
      "execution_count": null,
      "metadata": {
        "id": "yfxwlIIX-423"
      },
      "outputs": [],
      "source": [
        "not_ortalamasi = int(input(\"Not ortalamasını giriniz: \"))\n",
        "if not_ortalamasi >= 0 and not_ortalamasi <= 50:\n",
        "    print(\"Kaldınız\")\n",
        "elif not_ortalamasi >= 50 and not_ortalamasi <= 100:\n",
        "    print(\"Geçtiniz\")\n",
        "else:\n",
        "    print(\"Hatalı Değer\")"
      ]
    },
    {
      "cell_type": "markdown",
      "metadata": {
        "id": "rpFAbLIW-7B8"
      },
      "source": [
        "9. Kullanıcıdan alınan sayının tam bölenlerini ekrana yazdırınız."
      ]
    },
    {
      "cell_type": "code",
      "execution_count": 5,
      "metadata": {},
      "outputs": [
        {
          "name": "stdout",
          "output_type": "stream",
          "text": [
            "1\n",
            "2\n",
            "5\n",
            "10\n"
          ]
        }
      ],
      "source": [
        "n = int(input(\"Bir sayı giriniz: \"))\n",
        "for i in range(1, n+1) :\n",
        "    if n % i == 0:\n",
        "        print(i)\n"
      ]
    },
    {
      "cell_type": "markdown",
      "metadata": {
        "id": "FXkUahRw_Ld_"
      },
      "source": [
        "10. Kullanıcıdan bir sayı alınız ve bu sayının faktöriyelini hesaplayınız."
      ]
    },
    {
      "cell_type": "code",
      "execution_count": 6,
      "metadata": {
        "id": "WBgQ2iba_QtM"
      },
      "outputs": [
        {
          "name": "stdout",
          "output_type": "stream",
          "text": [
            "6 ! =  720\n"
          ]
        }
      ],
      "source": [
        "sayi = int(input(\"Sayıyı giriniz: \"))\n",
        "faktoriyel = 1\n",
        "if sayi < 0:\n",
        "    print(\"Negatif sayıların faktöriyeli yoktur.\")\n",
        "elif sayi == 0:\n",
        "    print(\"0! = 1\")\n",
        "else:\n",
        "    for i in range(1,sayi+1):\n",
        "        faktoriyel *= i\n",
        "    print(sayi,\"! = \",faktoriyel)\n",
        " "
      ]
    },
    {
      "cell_type": "markdown",
      "metadata": {
        "id": "HyRTML8K_PMc"
      },
      "source": [
        "11. Verilen tam sayı 'n' için n'den küçük olan ve negatif olmayan sayıların karelerini ekrana yazdırınız.\n",
        "\n",
        "Örneğin 6 sayısı için ekranda şu şekilde bir çıktı olmalıdır ;\n",
        "\n",
        "0\n",
        "1\n",
        "4\n",
        "9\n",
        "16\n",
        "25"
      ]
    },
    {
      "cell_type": "code",
      "execution_count": 1,
      "metadata": {
        "id": "jv1oSRVq_c5s"
      },
      "outputs": [
        {
          "name": "stdout",
          "output_type": "stream",
          "text": [
            "1\n",
            "4\n",
            "9\n",
            "16\n",
            "25\n"
          ]
        }
      ],
      "source": [
        "n = int(input(\"Sayıyı giriniz: \"))\n",
        "for i in range(1,n):\n",
        "    print(i*i)"
      ]
    },
    {
      "cell_type": "markdown",
      "metadata": {
        "id": "t1oOFXAH_dQT"
      },
      "source": [
        "12. Kullanıcıdan bir metin girmesini isteyin ve girilen bu metinde bulunan sesli harflerin sayısını ekranda gösteren kodu yazın."
      ]
    },
    {
      "cell_type": "code",
      "execution_count": 7,
      "metadata": {
        "id": "LJMNnwE5_gih"
      },
      "outputs": [
        {
          "name": "stdout",
          "output_type": "stream",
          "text": [
            "Sesli harf sayısı:  2\n"
          ]
        }
      ],
      "source": [
        "\n",
        "sesli_harfler = \"aeıioöuüAEIİOÖUÜ\"\n",
        "metin = input(\"Metin giriniz: \")\n",
        "sesli_harf_sayisi = 0\n",
        "for harf in metin:\n",
        "    if harf in sesli_harfler:\n",
        "        sesli_harf_sayisi += 1\n",
        "print(\"Sesli harf sayısı: \",sesli_harf_sayisi)\n"
      ]
    },
    {
      "cell_type": "markdown",
      "metadata": {
        "id": "zStssteq-_tc"
      },
      "source": [
        "13. Kullanıcıdan bir sayı alınız ve sonrasında alınan sayıya kadar olan sayılardan oluşan alttaki piramiti oluşturunuz.\n",
        "\n",
        "Örnek: Kullanıcı '5' değerini girdiyse;\n",
        "5"
      ]
    },
    {
      "cell_type": "code",
      "execution_count": 34,
      "metadata": {},
      "outputs": [
        {
          "name": "stdout",
          "output_type": "stream",
          "text": [
            "1 \n",
            "1 2 \n",
            "1 2 3 \n",
            "1 2 3 4 \n",
            "1 2 3 4 5 \n"
          ]
        }
      ],
      "source": [
        "sayi = int(input(\"Lütfen bir sayı giriniz: \"))\n",
        "\n",
        "for i in range(1, sayi+1):\n",
        "    for j in range(1, i+1):\n",
        "        print(j, end=\" \")\n",
        "    print()"
      ]
    },
    {
      "cell_type": "markdown",
      "metadata": {},
      "source": [
        "14.Aşağıdaki şekli oluşturunuz.\n",
        "\n",
        "\n",
        "     * \n",
        "    * * \n",
        "   * * * \n",
        "  * * * * \n",
        " * * * * * \n",
        "* * * * * * \n",
        " * * * * * \n",
        "  * * * * \n",
        "   * * * \n",
        "    * * \n",
        "     *"
      ]
    },
    {
      "cell_type": "code",
      "execution_count": 35,
      "metadata": {
        "id": "KW9lCtAW_wDp"
      },
      "outputs": [
        {
          "name": "stdout",
          "output_type": "stream",
          "text": [
            "      * \n",
            "     * * \n",
            "    * * * \n",
            "   * * * * \n",
            "  * * * * * \n",
            " * * * * * * \n",
            "  * * * * * \n",
            "   * * * * \n",
            "    * * * \n",
            "     * * \n",
            "      * \n",
            "       \n",
            "      * \n",
            "     * * \n",
            "    * * * \n",
            "   * * * * \n",
            "  * * * * * \n",
            " * * * * * * \n",
            "  * * * * * \n",
            "   * * * * \n",
            "    * * * \n",
            "     * * \n",
            "      * \n",
            "       \n"
          ]
        }
      ],
      "source": [
        "rows = 6\n",
        "\n",
        "for row in range(1, rows + 1):\n",
        "  print(' ' * (rows - row),'* ' * row)\n",
        "for row in range(rows - 1, 0, -1):\n",
        "  print(' ' * (rows - row) ,'* ' * row)\n",
        "\n",
        "\n",
        "\n",
        "rows = 12\n",
        "\n",
        "for row in range(rows + 1):\n",
        "  boslukSayisi = (rows // 2) - row\n",
        "  if row <= rows // 2:\n",
        "    print(' ' * boslukSayisi,'* ' * row)\n",
        "    \n",
        "  else:\n",
        "    # boslukSayisi = row - (rows // 2)\n",
        "    print(' ' * abs(boslukSayisi),'* ' * (rows - row))\n",
        "# 1     4\n",
        "# 2     3\n",
        "# 3     2\n",
        "# 4     1\n",
        "# 5     0  \n",
        "\n",
        "\n",
        "\n",
        "# row     spaceCount\n",
        "#   5         1\n",
        "#   4         2\n",
        "#   3         3\n",
        "#   2         4\n",
        "#   1         5\n",
        "\n",
        "\n",
        "# row         yildizsayisi        rows\n",
        "# 7               5                12\n",
        "# 8               4                12\n",
        "# 9               3                12"
      ]
    },
    {
      "cell_type": "markdown",
      "metadata": {},
      "source": [
        "15. Sayının asal olup olmadığını bulunuz."
      ]
    },
    {
      "cell_type": "code",
      "execution_count": null,
      "metadata": {
        "id": "EOYA-X8f_73q"
      },
      "outputs": [],
      "source": [
        "\n",
        "sayi = int(input(\"Sayıyı giriniz: \"))\n",
        "asal = True\n",
        "if sayi == 1:\n",
        "    asal = False\n",
        "else:\n",
        "    for i in range(2,sayi):\n",
        "        if sayi % i == 0:\n",
        "            asal = False\n",
        "            break\n",
        "if asal:\n",
        "    print(\"Sayı asaldır.\")\n"
      ]
    },
    {
      "attachments": {},
      "cell_type": "markdown",
      "metadata": {},
      "source": [
        "16. Klavyeden girilen sayıya kadar olan sayılardan tek sayı mı ve çift sayı mı olduğunu bulan kodu yazınız."
      ]
    },
    {
      "cell_type": "code",
      "execution_count": null,
      "metadata": {},
      "outputs": [],
      "source": [
        "sayi = int(input(\"Sayıyı giriniz: \"))\n",
        "if sayi % 2 == 0:\n",
        "    print(\"Sayı çifttir.\")\n",
        "else:\n",
        "    print(\"Sayı tektir.\")\n",
        "    "
      ]
    },
    {
      "attachments": {},
      "cell_type": "markdown",
      "metadata": {},
      "source": [
        "17. Python'da Hesap makinası yapınız."
      ]
    },
    {
      "cell_type": "code",
      "execution_count": null,
      "metadata": {},
      "outputs": [],
      "source": [
        "print(\"1-Toplama\\n2-Çıkarma\\n3-Çarpma\\n4-Bölme\")\n",
        "islem = int(input(\"İşlem seçiniz: \"))\n",
        "sayi1 = int(input(\"Birinci sayıyı giriniz: \"))\n",
        "sayi2 = int(input(\"İkinci sayıyı giriniz: \"))\n",
        "if islem == 1:\n",
        "    print(\"Toplam: \",sayi1+sayi2)\n",
        "elif islem == 2:\n",
        "    print(\"Fark: \",sayi1-sayi2)\n",
        "elif islem == 3:\n",
        "    print(\"Çarpım: \",sayi1*sayi2)\n",
        "elif islem == 4:\n",
        "    print(\"Bölüm: \",sayi1/sayi2)\n",
        "else:\n",
        "    print(\"Hatalı işlem seçimi\")"
      ]
    },
    {
      "attachments": {},
      "cell_type": "markdown",
      "metadata": {},
      "source": [
        "18. Kullanıcı 'q' harfine basmadığı sürece kullanıcıdan sürekli olarak tam sayı alınız. Aldığınız tam sayıların;\n",
        "\n",
        "* Toplamını yazdırınız.\n",
        "* En büyüğünü yazdırınız.\n",
        "* En küçüğünü yazdırınız.\n",
        "* Ortalamasını yazdırınız."
      ]
    },
    {
      "cell_type": "code",
      "execution_count": 43,
      "metadata": {},
      "outputs": [
        {
          "name": "stdout",
          "output_type": "stream",
          "text": [
            "Toplam:  33\n",
            "Ortalama:  3.0\n",
            "En küçük sayı:  0\n",
            "En büyük sayı:  9\n"
          ]
        }
      ],
      "source": [
        "toplam = 0\n",
        "sayac = 0\n",
        "enKucuk = 0\n",
        "enBuyuk = 0\n",
        "while True:\n",
        "        sayi = input(\"Sayıyı giriniz: \")\n",
        "        if sayi == \"q\":\n",
        "            break\n",
        "        sayi = int(sayi)\n",
        "        toplam += sayi\n",
        "        sayac += 1\n",
        "        if sayac == 1:\n",
        "            enKucuk = sayi\n",
        "            enBuyuk = sayi\n",
        "        else:\n",
        "            if sayi < enKucuk:\n",
        "                enKucuk = sayi\n",
        "            if sayi > enBuyuk:\n",
        "                enBuyuk = sayi\n",
        "print(\"Toplam: \",toplam)\n",
        "print(\"Ortalama: \",toplam/sayac)\n",
        "print(\"En küçük sayı: \",enKucuk)\n",
        "print(\"En büyük sayı: \",enBuyuk)"
      ]
    },
    {
      "attachments": {},
      "cell_type": "markdown",
      "metadata": {},
      "source": [
        "19. Verilen iki sayının EBOB'unu ve EKOK'unu hesaplayın."
      ]
    },
    {
      "cell_type": "code",
      "execution_count": null,
      "metadata": {},
      "outputs": [],
      "source": [
        "\n",
        "\n",
        "sayi1 = int(input(\"Birinci sayıyı giriniz: \"))\n",
        "sayi2 = int(input(\"İkinci sayıyı giriniz: \"))\n",
        "i = 1\n",
        "ebob = 1\n",
        "while (i <= sayi1 and i <= sayi2):\n",
        "    if not(sayi1 % i) and not(sayi2 % i):\n",
        "        ebob = i\n",
        "    i += 1  \n",
        "print(\"Ebob: \",ebob)\n",
        "print(\"Ekok: \",int(sayi1*sayi2/ebob))\n",
        "\n",
        "#ikinci yol\n",
        "\n",
        "birinciSayi = int(input(\"Birinci Sayıyı Giriniz : \"))\n",
        "ikinciSayi = int(input(\"İkinci Sayıyı Giriniz : \"))\n",
        " \n",
        "if (birinciSayi > ikinciSayi):\n",
        "    kucuksayi = ikinciSayi\n",
        "else:\n",
        "    kucuksayi = birinciSayi\n",
        "for i in range(1,kucuksayi+1):\n",
        "    if (birinciSayi % i==0) and (ikinciSayi%i ==0):\n",
        "        ebob = i\n",
        "        ekok = (birinciSayi*ikinciSayi)//ebob\n",
        "        \n",
        "print (\"EBOB:\", ebob)\n",
        "print (\"EKOK:\", ekok)\n",
        "\n",
        "\n",
        "\n"
      ]
    },
    {
      "cell_type": "markdown",
      "metadata": {},
      "source": [
        "*           *****           *       *****           **         **********        *        *\n",
        "**          ****           **        ****          ****         ********         **      **\n",
        "***         ***           ***         ***         ******         ******          ***    ***\n",
        "****        **           ****          **        ********         ****           ****  ****\n",
        "*****       *           *****           *       **********         **            **********"
      ]
    },
    {
      "cell_type": "code",
      "execution_count": 4,
      "metadata": {},
      "outputs": [
        {
          "name": "stdout",
          "output_type": "stream",
          "text": [
            "*\n",
            "**\n",
            "***\n",
            "****\n",
            "*****\n"
          ]
        }
      ],
      "source": [
        "#1.şekil\n",
        "rows = 5\n",
        "for i in range(1, rows+1):\n",
        "  print(\"*\" * i)"
      ]
    },
    {
      "cell_type": "code",
      "execution_count": 31,
      "metadata": {},
      "outputs": [
        {
          "name": "stdout",
          "output_type": "stream",
          "text": [
            "*****\n",
            "****\n",
            "***\n",
            "**\n",
            "*\n"
          ]
        }
      ],
      "source": [
        "#2.şekil\n",
        "rows = 5\n",
        "for i in range(rows, 0, -1):\n",
        "  for j in range(0, i):\n",
        "    print(\"*\", end=\"\")\n",
        "  print()"
      ]
    },
    {
      "cell_type": "code",
      "execution_count": 32,
      "metadata": {},
      "outputs": [
        {
          "name": "stdout",
          "output_type": "stream",
          "text": [
            "     *\n",
            "    **\n",
            "   ***\n",
            "  ****\n",
            " *****\n"
          ]
        }
      ],
      "source": [
        "#3.şekil\n",
        "rows = 5\n",
        "for i in range(0, rows):\n",
        "  for j in range(0, i+1):\n",
        "    if j == 0:\n",
        "      print(\" \"*(rows - i) + \"*\", end=\"\")\n",
        "    else: print(\"*\", end=\"\")\n",
        "  print()\n",
        "\n",
        "\n",
        "    "
      ]
    },
    {
      "cell_type": "code",
      "execution_count": 33,
      "metadata": {},
      "outputs": [
        {
          "name": "stdout",
          "output_type": "stream",
          "text": [
            "*****\n",
            " ****\n",
            "  ***\n",
            "   **\n",
            "    *\n"
          ]
        }
      ],
      "source": [
        "#4.şekil\n",
        "rows = 5\n",
        "for i in range(rows, 0, -1):#dikey\n",
        "  for j in range(0, i):#yatay\n",
        "    if j == 0:\n",
        "      print(\" \"*(rows-i) +\"*\", end=\"\")\n",
        "    else: print(\"*\", end=\"\")\n",
        "  print()\n"
      ]
    },
    {
      "cell_type": "code",
      "execution_count": 2,
      "metadata": {},
      "outputs": [
        {
          "name": "stdout",
          "output_type": "stream",
          "text": [
            "      * \n",
            "     * * \n",
            "    * * * \n",
            "   * * * * \n",
            "  * * * * * \n"
          ]
        }
      ],
      "source": [
        "#5.şekil\n",
        "for i in range(5):\n",
        "    for s in range(-6, -i):\n",
        "        print(\" \", end=\"\")\n",
        "    for j in range(i+1):\n",
        "        print(\"* \", end=\"\")\n",
        "    print()"
      ]
    },
    {
      "cell_type": "code",
      "execution_count": 7,
      "metadata": {},
      "outputs": [
        {
          "name": "stdout",
          "output_type": "stream",
          "text": [
            "* * * * * * * \n",
            "  * * * * * \n",
            "    * * * \n",
            "      * \n"
          ]
        }
      ],
      "source": [
        "#6.şekil\n",
        "rows = int(input(\"Enter number of rows: \"))\n",
        "\n",
        "for i in range(rows, 1, -1):\n",
        "    for space in range(0, rows-i):\n",
        "        print(\"  \", end=\"\")\n",
        "    for j in range(i, 2*i-1):\n",
        "        print(\"* \", end=\"\")\n",
        "    for j in range(1, i-1):\n",
        "        print(\"* \", end=\"\")\n",
        "    print()"
      ]
    },
    {
      "cell_type": "markdown",
      "metadata": {},
      "source": [
        "**********\n",
        "****  ****\n",
        "***    ***\n",
        "**      **\n",
        "*        *\n"
      ]
    },
    {
      "cell_type": "code",
      "execution_count": null,
      "metadata": {},
      "outputs": [],
      "source": [
        "number = 5\n",
        "for i in range(number,0,-1):\n",
        "    print(\"*\"*i+\"  \"*(number-i)+\"*\"*i) \n",
        "print()\n"
      ]
    },
    {
      "cell_type": "markdown",
      "metadata": {},
      "source": [
        "**********\n",
        "****  ****\n",
        "***    ***\n",
        "**      **\n",
        "*        *\n",
        "*        *\n",
        "**      **\n",
        "***    ***\n",
        "****  ****\n",
        "**********"
      ]
    },
    {
      "attachments": {},
      "cell_type": "markdown",
      "metadata": {},
      "source": [
        "\n",
        "Aşağıdaki deseni oluşturunuz.\n",
        "*\n",
        " **\n",
        "***\n",
        "   ****\n",
        "*****\n",
        "     ******\n",
        "*******\n",
        "       ********\n",
        "*********\n",
        "         **********"
      ]
    },
    {
      "cell_type": "code",
      "execution_count": 7,
      "metadata": {},
      "outputs": [
        {
          "name": "stdout",
          "output_type": "stream",
          "text": [
            "\n",
            "\n",
            "*\n",
            "  **\n",
            "\n",
            "***\n",
            "    ****\n",
            "\n",
            "*****\n",
            "      ******\n",
            "\n",
            "*******\n",
            "        ********\n",
            "\n",
            "*********\n"
          ]
        }
      ],
      "source": [
        "rows = 10\n",
        "for i in range(0, rows):\n",
        "    if i % 2 == 0:\n",
        "            print(\" \" * i , end='')\n",
        "            print(\"*\" *i )\n",
        "    else:\n",
        "            print(\"*\" *i , end='')\n",
        "          \n",
        "    print(\"\")\n"
      ]
    },
    {
      "cell_type": "code",
      "execution_count": 3,
      "metadata": {},
      "outputs": [
        {
          "name": "stdout",
          "output_type": "stream",
          "text": [
            "*\n",
            " **\n",
            "***\n",
            "   ****\n",
            "*****\n",
            "*\n",
            " **\n",
            "***\n",
            "   ****\n",
            "*****\n"
          ]
        }
      ],
      "source": [
        "#1.yol\n",
        "userInput = int(input('Sayi giriniz...'))\n",
        "oncekiDeger = 0\n",
        "\n",
        "for row in range(1, userInput + 1):\n",
        "  if row % 2 == 0:\n",
        "    print(' '* oncekiDeger + '*' * row)\n",
        "  else:\n",
        "    print('*' * row)\n",
        "  oncekiDeger = row\n",
        "\n",
        "#2.yol\n",
        "rowCount = int(input())\n",
        "\n",
        "for rowIndex in range(1, rowCount + 1):\n",
        "    if rowIndex % 2 == 1: \n",
        "        print(rowIndex * '*')\n",
        "    else:\n",
        "        print((rowIndex - 1) * ' ' + rowIndex * '*')"
      ]
    },
    {
      "cell_type": "markdown",
      "metadata": {},
      "source": [
        "1 2 3 4 5\n",
        "1 2 3 4\n",
        "1 2 3\n",
        "1 2\n",
        "1\n",
        "bu şekli yapalım"
      ]
    },
    {
      "cell_type": "code",
      "execution_count": 2,
      "metadata": {},
      "outputs": [
        {
          "name": "stdout",
          "output_type": "stream",
          "text": [
            "1 \n",
            "1 2 \n",
            "1 2 3 \n",
            "1 2 3 4 \n",
            "1 2 3 4 5 \n"
          ]
        }
      ],
      "source": [
        "userInput = int(input('Sayi giriniz... '))\n",
        "\n",
        "if userInput < 0 or userInput > 20:\n",
        "  print('Hata!!!')\n",
        "else:\n",
        "  for row in range(1,userInput + 1):\n",
        "    for i in range(1, row + 1):\n",
        "      print(f'{i} ',end = \"\")\n",
        "  \n",
        "    print()"
      ]
    },
    {
      "cell_type": "markdown",
      "metadata": {},
      "source": [
        "     1\n",
        "   123\n",
        "  12345\n",
        " 1234567\n",
        "123456789"
      ]
    },
    {
      "cell_type": "code",
      "execution_count": 4,
      "metadata": {},
      "outputs": [
        {
          "name": "stdout",
          "output_type": "stream",
          "text": [
            "    1\n",
            "   123\n",
            "  12345\n",
            " 1234567\n",
            "123456789\n"
          ]
        }
      ],
      "source": [
        "n = 5\n",
        "for i in range(n):\n",
        "    for j in range(n - i - 1):\n",
        "        print(' ', end='')\n",
        "    for k in range(2 * i + 1):\n",
        "        print(k + 1, end='')\n",
        "    print()"
      ]
    },
    {
      "cell_type": "markdown",
      "metadata": {},
      "source": [
        "Artık yıllar 4 rakamının katı olan yıllardır fakat bu kuralın bir ististası vardır.\n",
        "1. 100'ün katı olan yıllardan sadece 400'e kalansız olarak bölünebilenler artık yıldır.\n",
        "     Örneğin 1200 ve 2000 yılları artık yıllardır fakat 1800, 1300, 1900 ve 1500 artık yıl değildir.\n",
        "\n",
        "Bilgi: 4000'den sonraki yıllar için yeni bir istisna devreye giriyor fakat bu soru için onu göze almamıza gerek yoktur.\n",
        "\n",
        "Yukarıdaki tanıma göre artık yılı hesaplayan programı yazınız."
      ]
    },
    {
      "cell_type": "code",
      "execution_count": 1,
      "metadata": {},
      "outputs": [
        {
          "name": "stdout",
          "output_type": "stream",
          "text": [
            "1234 artık yıl değildir\n"
          ]
        }
      ],
      "source": [
        "yil = int(input(\"yil :\"))\n",
        "\n",
        "if yil % 4 == 0:\n",
        "  if yil > 100:\n",
        "    if yil % 100 == 0 and yil % 400 == 0:\n",
        "      print(\"artık yıl: \",yil)\n",
        "    else:\n",
        "      print(f'{yil} artık yıl değildir')\n",
        "  else:\n",
        "    print(\"artık yıl: \",yil)\n",
        "else:\n",
        "  print(f'{yil} artık yıl değildir')"
      ]
    },
    {
      "cell_type": "markdown",
      "metadata": {},
      "source": [
        "5 5 5 5 5 \n",
        "4 4 4 4 \n",
        "3 3 3 \n",
        "2 2 \n",
        "1\n",
        "şekli çizdirelim "
      ]
    },
    {
      "cell_type": "markdown",
      "metadata": {},
      "source": [
        " Fibonacci hesaplamasi islemini donguleri kullanarak hesaplayin. Girilen sayi kadar fibonacci dizisinin elemanini yazdirin.\n",
        "\n",
        "Fibonacci dizisi ardisik 2 fibonacci sayisinin toplami seklinde ilerler. sirasiyla ilk 7 fibonacci sayisi su sekildedir 1-2-3-5-8-13-21"
      ]
    },
    {
      "cell_type": "code",
      "execution_count": 8,
      "metadata": {},
      "outputs": [
        {
          "name": "stdout",
          "output_type": "stream",
          "text": [
            "0 1 1 2 3 5 8 13 21 34 55 "
          ]
        }
      ],
      "source": [
        "stepCount = int(input('Adim sayisini giriniz...'))\n",
        "\n",
        "n1,n2 = 0,1\n",
        "\n",
        "for i in range(stepCount):\n",
        "  if i == 0:\n",
        "    print(f'{n1} {n2}',end = ' ')\n",
        "  else:\n",
        "    print(f'{n1+n2}',end = ' ')\n",
        "    n1, n2 = n2, n1+n2\n"
      ]
    },
    {
      "cell_type": "code",
      "execution_count": 9,
      "metadata": {},
      "outputs": [
        {
          "name": "stdout",
          "output_type": "stream",
          "text": [
            "Fibonacci Serisi : 1 2 3 5 8 13 21 34 55 89 "
          ]
        }
      ],
      "source": [
        "a, b, c = 1, 2, 0\n",
        "\n",
        "step = int(input(\"bir sayi giriniz: \"))\n",
        "print(\"Fibonacci Serisi :\", a, b, end=\" \")\n",
        "c = a+b\n",
        "step = step-2\n",
        "while step>0:\n",
        "    print(c, end=\" \")\n",
        "    a = b\n",
        "    b = c\n",
        "    c = a+b\n",
        "    step = step-1\n"
      ]
    },
    {
      "cell_type": "code",
      "execution_count": 10,
      "metadata": {},
      "outputs": [
        {
          "name": "stdout",
          "output_type": "stream",
          "text": [
            "Bir değer giriniz : fibonacci Serisi : 0 1 1 2 3 5 8 13 21 34 "
          ]
        }
      ],
      "source": [
        "a = 0\n",
        "b = 1\n",
        "c = 0\n",
        "print(\"Bir değer giriniz : \", end=\"\")\n",
        "n = int(input())\n",
        "print(\"fibonacci Serisi :\", a, b, end=\" \")\n",
        "c = a+b\n",
        "n = n-2\n",
        "while n>0:\n",
        "    print(c, end=\" \")\n",
        "    a = b\n",
        "    b = c\n",
        "    c = a+b\n",
        "    n = n-1"
      ]
    },
    {
      "cell_type": "code",
      "execution_count": 11,
      "metadata": {},
      "outputs": [
        {
          "name": "stdout",
          "output_type": "stream",
          "text": [
            "0 1 1 2 3 5 8 13 21 34 "
          ]
        }
      ],
      "source": [
        "adim = int(input(\"Kaç fibonacci sayısı yazalım?: \"))\n",
        "n1 = 0\n",
        "n2 = 1\n",
        "count = 0\n",
        "for n in range(1, 1000):\n",
        "  while count< adim:\n",
        "    print(n1, end=' ')\n",
        "    new = n1 + n2\n",
        "    n1 = n2\n",
        "    n2 = new\n",
        "    count += 1"
      ]
    },
    {
      "cell_type": "code",
      "execution_count": 12,
      "metadata": {},
      "outputs": [
        {
          "name": "stdout",
          "output_type": "stream",
          "text": [
            "1 2 3 5 8 13 21 34 55 89 "
          ]
        }
      ],
      "source": [
        "num1 ,num2 = 1, 2\n",
        "x = int(input(\"bir sayı giriniz: \"))\n",
        "for i in range(x):\n",
        "  print(num1, end=\" \")\n",
        "  toplam = num1 + num2\n",
        "  num1 = num2\n",
        "  num2 = toplam"
      ]
    },
    {
      "attachments": {},
      "cell_type": "markdown",
      "metadata": {},
      "source": [
        "Sıcaklık Donusutrucu\n",
        "Kullanicidan ilk olarak bir celcius sicaklik degeri girmesini isteyin. Girilen degerin hangi sicaklik turune donusturulecegini ayriyeten girmesini isteyin. Ve Gerekli donusumu yapan fonksiyonu tasarlayin.\n",
        "Ipucu: C / 100 = (F - 32) / 180 = (K - 273.15) / 100\n",
        "  "
      ]
    },
    {
      "cell_type": "code",
      "execution_count": 1,
      "metadata": {},
      "outputs": [
        {
          "name": "stdout",
          "output_type": "stream",
          "text": [
            "278.15\n"
          ]
        }
      ],
      "source": [
        "a = int(input(\"Sıcaklığı Celcius Olarak Giriniz\"))\n",
        "b = input(\"Sıcaklık Neye Dönüştürülsün? F/K\")\n",
        "\n",
        "if b == \"F\":\n",
        "    print((a/100)*180+32)\n",
        "elif b == \"K\":\n",
        "    print(a + 273.15)\n",
        "else:\n",
        "    print(\"Fahrenheit (°F) veya Kelvin (°K) için seçim yapınız\")\n"
      ]
    }
  ],
  "metadata": {
    "colab": {
      "collapsed_sections": [],
      "provenance": []
    },
    "kernelspec": {
      "display_name": "Python 3.10.7 64-bit",
      "language": "python",
      "name": "python3"
    },
    "language_info": {
      "codemirror_mode": {
        "name": "ipython",
        "version": 3
      },
      "file_extension": ".py",
      "mimetype": "text/x-python",
      "name": "python",
      "nbconvert_exporter": "python",
      "pygments_lexer": "ipython3",
      "version": "3.10.7 (tags/v3.10.7:6cc6b13, Sep  5 2022, 14:08:36) [MSC v.1933 64 bit (AMD64)]"
    },
    "vscode": {
      "interpreter": {
        "hash": "fa8af0cc1927a15d37d0c6a05a578f184341335e7f035027322b44b8322fd6ef"
      }
    }
  },
  "nbformat": 4,
  "nbformat_minor": 0
}
