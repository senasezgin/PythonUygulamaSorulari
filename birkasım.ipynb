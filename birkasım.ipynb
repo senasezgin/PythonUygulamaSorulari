{
 "cells": [
  {
   "cell_type": "markdown",
   "metadata": {},
   "source": []
  },
  {
   "cell_type": "code",
   "execution_count": 2,
   "metadata": {},
   "outputs": [
    {
     "name": "stdout",
     "output_type": "stream",
     "text": [
      "Male\n"
     ]
    }
   ],
   "source": [
    "class Person:\n",
    "    # __atiyorum = 15\n",
    "    abc = \"abc\"\n",
    "    def __init__(self, name, surname, gender, age):\n",
    "        self.name = name\n",
    "        self.surname = surname\n",
    "        self.gender = gender\n",
    "        self.age = age\n",
    "        # self.__atiyorum = 30\n",
    "    \n",
    "    def genderAndAge(self, gender, age):\n",
    "        self.gender = gender\n",
    "        self.age = age\n",
    "\n",
    "    # def printAtiyorum(self):\n",
    "    #     print(self.abc)\n",
    "\n",
    "\n",
    "\n",
    "p1 = Person('Emre','Gelen','Male', 28)\n",
    "p1.genderAndAge('Male', 29)\n",
    "print(p1.gender)\n",
    "# my_list = []\n",
    "# p1.__atiyorum = 16\n"
   ]
  },
  {
   "cell_type": "code",
   "execution_count": 3,
   "metadata": {},
   "outputs": [
    {
     "name": "stdout",
     "output_type": "stream",
     "text": [
      "abc\n",
      "abc\n",
      "TR\n"
     ]
    }
   ],
   "source": [
    "class Employee(Person):\n",
    "    def __init__(self, name, surname, gender, age, salary, deparment, company, country):\n",
    "        super().__init__(name, surname, gender, age)\n",
    "        self.salary = salary\n",
    "        self.department = deparment\n",
    "        self.company = company\n",
    "        self.country = country\n",
    "\n",
    "p1 = Employee('Emre','Gelen','Male',25, 10000, 'IT','OBSS','TR')\n",
    "p2 = Person('Emre','Gelen','Male', 25)\n",
    "print(p2.abc)\n",
    "print(p1.abc)\n",
    "print(p1.country)\n"
   ]
  },
  {
   "cell_type": "code",
   "execution_count": 1,
   "metadata": {},
   "outputs": [
    {
     "ename": "FileNotFoundError",
     "evalue": "[Errno 2] No such file or directory: 'files/tempData.txt'",
     "output_type": "error",
     "traceback": [
      "\u001b[1;31m---------------------------------------------------------------------------\u001b[0m",
      "\u001b[1;31mFileNotFoundError\u001b[0m                         Traceback (most recent call last)",
      "Cell \u001b[1;32mIn [1], line 2\u001b[0m\n\u001b[0;32m      1\u001b[0m filePath \u001b[39m=\u001b[39m \u001b[39m\"\u001b[39m\u001b[39mfiles/tempData.txt\u001b[39m\u001b[39m\"\u001b[39m\n\u001b[1;32m----> 2\u001b[0m tempData \u001b[39m=\u001b[39m \u001b[39mopen\u001b[39;49m(filePath)\n\u001b[0;32m      4\u001b[0m firstLine \u001b[39m=\u001b[39m tempData\u001b[39m.\u001b[39mreadline()\n\u001b[0;32m      6\u001b[0m name_surname, age, salary, company, department, country, gender \u001b[39m=\u001b[39m firstLine\u001b[39m.\u001b[39msplit(\u001b[39m'\u001b[39m\u001b[39m;\u001b[39m\u001b[39m'\u001b[39m)\n",
      "\u001b[1;31mFileNotFoundError\u001b[0m: [Errno 2] No such file or directory: 'files/tempData.txt'"
     ]
    }
   ],
   "source": [
    "filePath = \"files/tempData.txt\"\n",
    "tempData = open(filePath)\n",
    "\n",
    "firstLine = tempData.readline()\n",
    "\n",
    "name_surname, age, salary, company, department, country, gender = firstLine.split(';')\n",
    "name, surname = name_surname.split(' ')\n",
    "\n",
    "emp1 = Employee(name, surname, gender, age, salary, department, company, country)\n",
    "print(emp1.department)\n",
    "\n"
   ]
  },
  {
   "cell_type": "code",
   "execution_count": null,
   "metadata": {},
   "outputs": [],
   "source": [
    "class book:\n",
    "    def __init__(self, ):\n",
    "    "
   ]
  }
 ],
 "metadata": {
  "kernelspec": {
   "display_name": "Python 3.10.7 64-bit",
   "language": "python",
   "name": "python3"
  },
  "language_info": {
   "codemirror_mode": {
    "name": "ipython",
    "version": 3
   },
   "file_extension": ".py",
   "mimetype": "text/x-python",
   "name": "python",
   "nbconvert_exporter": "python",
   "pygments_lexer": "ipython3",
   "version": "3.10.7"
  },
  "orig_nbformat": 4,
  "vscode": {
   "interpreter": {
    "hash": "fa8af0cc1927a15d37d0c6a05a578f184341335e7f035027322b44b8322fd6ef"
   }
  }
 },
 "nbformat": 4,
 "nbformat_minor": 2
}
