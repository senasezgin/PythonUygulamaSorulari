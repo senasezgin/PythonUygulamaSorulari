{
 "cells": [
  {
   "cell_type": "markdown",
   "metadata": {},
   "source": [
    "SORU XXX:\n",
    "\n",
    "Aşağıdaki stringde verilen değeri, büyük harfe dönüştürmek ve tersine çevirmek için bir lambda fonksiyonu kullanın.\n",
    "\n",
    "- SistersLab girdisi için beklenen çıktı 'BALSRETSİS'"
   ]
  },
  {
   "cell_type": "code",
   "execution_count": 5,
   "metadata": {},
   "outputs": [
    {
     "name": "stdout",
     "output_type": "stream",
     "text": [
      "BALSRETSIS\n"
     ]
    }
   ],
   "source": [
    "str1 = \"SistersLab\"\n",
    "revers_upper = lambda string: string.upper()[::-1]\n",
    "print(revers_upper(str1))"
   ]
  },
  {
   "cell_type": "markdown",
   "metadata": {},
   "source": [
    "\n",
    "Girilen değer 5-10 arasında ise sayının 5 katını, 10'dan büyükse 10 katını dönen bir lambda fonksiyonu ve normal fonksiyon yazın"
   ]
  },
  {
   "cell_type": "code",
   "execution_count": 3,
   "metadata": {},
   "outputs": [
    {
     "name": "stdout",
     "output_type": "stream",
     "text": [
      "30\n"
     ]
    }
   ],
   "source": [
    "number = int(input(\"Enter a number: \"))\n",
    "result = lambda number: number*5 if number in range(5,10) else number*10 if number > 10 else number\n",
    "\n",
    "print(result(number))"
   ]
  },
  {
   "cell_type": "code",
   "execution_count": 4,
   "metadata": {},
   "outputs": [
    {
     "name": "stdout",
     "output_type": "stream",
     "text": [
      "200\n"
     ]
    }
   ],
   "source": [
    "x = int(input(\"Bir sayı giriniz: \"))\n",
    "calculate = lambda x: x*5 if 5< x < 10 else x*10 \n",
    "print(calculate(x))"
   ]
  },
  {
   "cell_type": "code",
   "execution_count": 3,
   "metadata": {},
   "outputs": [
    {
     "name": "stdout",
     "output_type": "stream",
     "text": [
      "200\n"
     ]
    }
   ],
   "source": [
    "sayi= int(input(\"Bir sayı giriniz: \"))\n",
    "a=lambda x: (sayi >= 5 and sayi <= 10) and sayi *5 or sayi * 10\n",
    "print(a(sayi))"
   ]
  },
  {
   "cell_type": "markdown",
   "metadata": {},
   "source": [
    "Listedeki sayılardan tek olanları lambda fonksiyonu kullanarak yazdırınız.\n",
    "\n",
    "list_ = [34, 12, 64, 57, 75, 13, 63, 3, 23, 232, 3453, 111211]"
   ]
  },
  {
   "cell_type": "code",
   "execution_count": 5,
   "metadata": {},
   "outputs": [
    {
     "name": "stdout",
     "output_type": "stream",
     "text": [
      "[57, 75, 13, 63, 3, 23, 3453, 111211]\n"
     ]
    }
   ],
   "source": [
    "my_list = [34, 12, 64, 57, 75, 13, 63, 3, 23, 232, 3453, 111211]\n",
    "\n",
    "print(list(filter(lambda x: x %2 != 0,my_list)))"
   ]
  },
  {
   "cell_type": "markdown",
   "metadata": {},
   "source": [
    "\n",
    "[0,1,2,3,4,5,6,7,9,10,12] Verilen listenin\n",
    "\n",
    "- 3.indexi ile 6.indexi arasındaki değerleri yazdırınız.\n",
    "- Listeyi tersten yazdırınız.\n",
    "- Listeye 10'dan sonra olacak şekilde 11 değerini ekleyiniz.\n",
    "- Listenin en başına -15 değerini ekleyiniz.\n",
    "\n",
    "- Listenin sonundaki değeri siliniz ve ekrana yazdırınız.\n",
    "- Listeye 5.indexten başlayarak 50 ve 51 değerlerini ekleyiniz.\n",
    "- Listedeki her bir değeri, değerin 10 ile çarpımı ile güncelleyiniz.\n",
    "\n",
    "- Listedeki her bir değer için, eğer değer 2'nin katı ise  değerin 5'e bölümü ile (KALAN MI?)  2'nin katı değilse değere 2 ekleyerek güncelleyiniz.???????"
   ]
  },
  {
   "cell_type": "code",
   "execution_count": null,
   "metadata": {},
   "outputs": [],
   "source": [
    "liste = [0,1,2,3,4,5,6,7,9,10,12]\n",
    "\n",
    "#Soru 1\n",
    "print(liste[3:7])\n",
    "\n",
    "#Soru 2\n",
    "print(liste[::-1])\n",
    "\n",
    "#Soru 3\n",
    "liste.insert(10, 11)\n",
    "print(liste)\n",
    "\n",
    "#Soru 4\n",
    "liste.insert(0, -15)\n",
    "print(liste)\n",
    "\n",
    "\n",
    "#Soru 5\n",
    "print(liste.pop())\n",
    "\n",
    "#Soru 6\n",
    "liste[5:5] = [50, 51]\n",
    "print(liste)\n",
    "\n",
    "#Soru 7\n",
    "liste = list(map(lambda number: number * 10,liste))\n",
    "print(liste)\n",
    "\n",
    "#Soru 8\n",
    "liste = list(map(lambda number: number // 5 if number % 2 == 0 else number + 2, liste))\n",
    "print(liste)"
   ]
  },
  {
   "cell_type": "markdown",
   "metadata": {},
   "source": [
    "Soru XXX:\n",
    "\n",
    "Kendisine parametre olarak verilen listenin içerisindeki sayıları toplayan ve bu sonucu dönen bir fonksiyon yazınız."
   ]
  },
  {
   "cell_type": "code",
   "execution_count": 2,
   "metadata": {},
   "outputs": [
    {
     "name": "stdout",
     "output_type": "stream",
     "text": [
      "15\n"
     ]
    }
   ],
   "source": [
    "def listetopla(list):\n",
    "    sayac = 0 \n",
    "    list = [1, 2, 3, 4, 5]\n",
    "    for i in list:\n",
    "        sayac = sayac + i \n",
    "    return sayac\n",
    "print(listetopla(list))"
   ]
  },
  {
   "cell_type": "markdown",
   "metadata": {},
   "source": [
    "Kendisine parametre olarak verilen listenin içerisindeki sayıları çarpan ve bu sonucu dönen bir fonksiyon yazınız."
   ]
  },
  {
   "cell_type": "code",
   "execution_count": 1,
   "metadata": {},
   "outputs": [
    {
     "name": "stdout",
     "output_type": "stream",
     "text": [
      "120\n"
     ]
    }
   ],
   "source": [
    "def listecarp(list):\n",
    "    sayac = 1\n",
    "    list = [1, 2, 3, 4, 5]\n",
    "    for i in list:\n",
    "        sayac = sayac*i \n",
    "    return sayac\n",
    "print(listecarp(list))"
   ]
  },
  {
   "cell_type": "markdown",
   "metadata": {},
   "source": [
    "\n",
    "Kendisine parametre olarak verilen listenin içerisindeki sayıların 5 ile bölümünden kalanlarının toplamını dönen bir fonksiyon yazınız."
   ]
  },
  {
   "cell_type": "code",
   "execution_count": 12,
   "metadata": {},
   "outputs": [
    {
     "data": {
      "text/plain": [
       "5"
      ]
     },
     "execution_count": 12,
     "metadata": {},
     "output_type": "execute_result"
    }
   ],
   "source": [
    "def myfunc(my_list):\n",
    "    kalan=0\n",
    "    for i in my_list:\n",
    "        kalan += i % 5\n",
    "    return(kalan)\n",
    "my_list = [5, 7, 8, 10]\n",
    "myfunc(my_list)\n"
   ]
  },
  {
   "cell_type": "markdown",
   "metadata": {},
   "source": [
    "\n",
    "Kendisine parametre olarak verilen listenin içerisindeki sayılardan, kendisine parametre olarak verilen sayıya tam bölünenlerin toplamını döndüren bir fonksiyon yazınız. Fonksiyon aşağıdaki gibi görünebilir.\n",
    "\n",
    "\n",
    "\n",
    "```\n",
    "def tam_bolenleri_topla(liste, bolunecek_sayi)\n",
    "    return tam_bolenler_toplami\n",
    "```\n",
    "\n"
   ]
  },
  {
   "cell_type": "code",
   "execution_count": 35,
   "metadata": {},
   "outputs": [
    {
     "ename": "SyntaxError",
     "evalue": "'return' outside function (1450996505.py, line 7)",
     "output_type": "error",
     "traceback": [
      "\u001b[1;36m  Cell \u001b[1;32mIn [35], line 7\u001b[1;36m\u001b[0m\n\u001b[1;33m    return tam_bolenler_toplami\u001b[0m\n\u001b[1;37m    ^\u001b[0m\n\u001b[1;31mSyntaxError\u001b[0m\u001b[1;31m:\u001b[0m 'return' outside function\n"
     ]
    }
   ],
   "source": [
    "liste = [5, 7, 8, 10]\n",
    "def tam_bolenleri_topla(listemm, bolunecek_sayi):\n",
    "    for item in my_list:\n",
    "        for i in range(1,bolunecek_sayi):\n",
    "             if bolunecek_sayi % i == 0:\n",
    "                tam_bolenleri_toplami = + bolunecek_sayi\n",
    "return tam_bolenler_toplami\n",
    "listemm = [5, 7, 8, 10]\n",
    "print(tam_bolenleri_toplami)"
   ]
  },
  {
   "cell_type": "code",
   "execution_count": null,
   "metadata": {},
   "outputs": [],
   "source": []
  },
  {
   "cell_type": "code",
   "execution_count": null,
   "metadata": {},
   "outputs": [],
   "source": []
  },
  {
   "cell_type": "markdown",
   "metadata": {},
   "source": [
    "1000 ile 1000 aralığında random sayılardan oluşan 250 elemanlı bir liste oluşturunuz. Sonrasında oluşturduğunuz bu liste ile aşağıdaki işlemleri yapınız.\n",
    "\n",
    "- Bu liste içerisinde kaç adet pozitif, kaç adet negatif sayı olduğunu bulunuz.\n",
    "- Bu liste içerisinde kaç adet tek, kaç adet çift sayı olduğunu bulunuz.\n",
    "- Bu liste içerisinde 3'e tam bölünen sayıların toplamını bulunuz.\n",
    "- Bu liste içerisinde 5'e tam bölünen sayıların toplamını bulunuz.\n",
    "- Bu liste içerisinde 15'e tam bölünen sayıların toplamını bulunuz.\n",
    "- Bu liste içerisindeki çift sayıların ve tek sayıların toplamını bulunuz.\n",
    "- Bu liste içerisinde çift indexte bulunan sayıların toplamını bulunuz.\n",
    "- Listedeki her bir değer için, eğer değer pozitif ise 10 çıkarınız değilse 20 ekleyiniz.\n",
    "- Listedeki pozitif ve negatif değerlerin en büyüğünü ayrı ayrı bulunuz."
   ]
  },
  {
   "cell_type": "code",
   "execution_count": null,
   "metadata": {},
   "outputs": [],
   "source": []
  },
  {
   "cell_type": "code",
   "execution_count": 1,
   "metadata": {},
   "outputs": [
    {
     "name": "stdout",
     "output_type": "stream",
     "text": [
      "['Python', 'C']\n"
     ]
    }
   ],
   "source": [
    "my_list = [ \"Python\", \"C\", \"C#\", \"Matlab\" ]\n",
    "print(my_list[0:2]) # O. indexten 2.indexse kadar olan değerleri ekrana bastırır."
   ]
  },
  {
   "cell_type": "code",
   "execution_count": 9,
   "metadata": {},
   "outputs": [
    {
     "name": "stdout",
     "output_type": "stream",
     "text": [
      "0. index değeri : Python\n",
      "1. index değeri : C\n",
      "2. index değeri : C#\n",
      "3. index değeri : Matlab\n"
     ]
    }
   ],
   "source": [
    "my_list = [ \"Python\", \"C\", \"C#\", \"Matlab\" ]\n",
    "for i in range (0, len(my_list)):\n",
    "    print(f\"{i}. index değeri : {my_list[i]}\")"
   ]
  },
  {
   "cell_type": "code",
   "execution_count": 10,
   "metadata": {},
   "outputs": [
    {
     "name": "stdout",
     "output_type": "stream",
     "text": [
      "Python\n",
      "C\n",
      "C#\n",
      "Matlab\n"
     ]
    }
   ],
   "source": [
    "my_list = [ \"Python\", \"C\", \"C#\", \"Matlab\" ]\n",
    "for item in my_list:\n",
    "    print(item)"
   ]
  },
  {
   "cell_type": "code",
   "execution_count": 12,
   "metadata": {},
   "outputs": [
    {
     "name": "stdout",
     "output_type": "stream",
     "text": [
      "['Python', 'C', 'C#', 'Matlab', 'Java']\n"
     ]
    }
   ],
   "source": [
    "my_list = [ \"Python\", \"C\", \"C#\", \"Matlab\" ]\n",
    "my_list.append(\"Java\")\n",
    "\n",
    "print(my_list)"
   ]
  },
  {
   "cell_type": "code",
   "execution_count": 14,
   "metadata": {},
   "outputs": [
    {
     "name": "stdout",
     "output_type": "stream",
     "text": [
      "['Python', 'C', 'Java', 'C#', 'Matlab']\n"
     ]
    }
   ],
   "source": [
    "my_list = [ \"Python\", \"C\", \"C#\", \"Matlab\" ]\n",
    "my_list.insert(2,\"Java\")\n",
    "print(my_list)\n"
   ]
  },
  {
   "cell_type": "code",
   "execution_count": 16,
   "metadata": {},
   "outputs": [
    {
     "name": "stdout",
     "output_type": "stream",
     "text": [
      "['Python', 'C', 'C#', 'Matlab', 'Java', 'Css']\n"
     ]
    }
   ],
   "source": [
    "my_list = [ \"Python\", \"C\", \"C#\", \"Matlab\" ]\n",
    "my_list.extend([\"Java\", \"Css\"])\n",
    "print(my_list)\n"
   ]
  },
  {
   "cell_type": "code",
   "execution_count": 37,
   "metadata": {},
   "outputs": [
    {
     "name": "stdout",
     "output_type": "stream",
     "text": [
      "Önceki Hali:  ['John', 'Paul', 'George', 'Ringo', 'Hey Jude', 1960]\n",
      "Sonraki Hali:  ['John', 'Paul', 'George', 'Ringo', 'Hey Jude', 1960]\n"
     ]
    }
   ],
   "source": [
    "mylist1 = [ 1960, 20, \"John\", \"Paul\", \"George\", \"Ringo\", \"Hey Jude\"]\n",
    "print(\"Önceki Hali: \", my_list)\n",
    "mylist1.remove(1960)\n",
    "print(\"Sonraki Hali: \", my_list)"
   ]
  },
  {
   "cell_type": "code",
   "execution_count": 1,
   "metadata": {},
   "outputs": [
    {
     "name": "stdout",
     "output_type": "stream",
     "text": [
      "18\n",
      "135\n"
     ]
    }
   ],
   "source": [
    "#default değer verme\n",
    "\n",
    "double = lambda y = 2: y * 9\n",
    "\n",
    "print(double())\n",
    "print(double(15))"
   ]
  },
  {
   "cell_type": "code",
   "execution_count": 2,
   "metadata": {},
   "outputs": [
    {
     "name": "stdout",
     "output_type": "stream",
     "text": [
      "6909455589863252355\n"
     ]
    }
   ],
   "source": [
    "n = int(input())\n",
    "integer_list = map(int, input().split())\n",
    "t = tuple(integer_list)\n",
    "\n",
    "print(hash(t))\n"
   ]
  },
  {
   "cell_type": "code",
   "execution_count": 2,
   "metadata": {},
   "outputs": [
    {
     "data": {
      "text/plain": [
       "set()"
      ]
     },
     "execution_count": 2,
     "metadata": {},
     "output_type": "execute_result"
    }
   ],
   "source": [
    "\n",
    "my_set1 = { \"Marshall\", \"Lily\" }\n",
    "my_set2 = {\"Robin\", \"Barney\", \"Ted\"}\n",
    "\n",
    "my_set1.intersection_update(my_set2)\n",
    "my_set1\n"
   ]
  },
  {
   "cell_type": "code",
   "execution_count": 6,
   "metadata": {},
   "outputs": [
    {
     "name": "stdout",
     "output_type": "stream",
     "text": [
      "*\n",
      "*\n",
      "*\n"
     ]
    }
   ],
   "source": [
    "i = 7\n",
    "while i > 0:\n",
    "    i -=3\n",
    "    print(\"*\")\n",
    "    if i <= 2:\n",
    "      break\n",
    "    else:\n",
    "        print(\"*\")"
   ]
  },
  {
   "cell_type": "code",
   "execution_count": 9,
   "metadata": {},
   "outputs": [
    {
     "name": "stdout",
     "output_type": "stream",
     "text": [
      "6\n"
     ]
    }
   ],
   "source": [
    " x, y, z = (1, 2, 3, 4, 5, 6, 7, 8, 9, 10)[2::3]\n",
    " print(y)"
   ]
  }
 ],
 "metadata": {
  "kernelspec": {
   "display_name": "Python 3.10.7 64-bit",
   "language": "python",
   "name": "python3"
  },
  "language_info": {
   "codemirror_mode": {
    "name": "ipython",
    "version": 3
   },
   "file_extension": ".py",
   "mimetype": "text/x-python",
   "name": "python",
   "nbconvert_exporter": "python",
   "pygments_lexer": "ipython3",
   "version": "3.10.7 (tags/v3.10.7:6cc6b13, Sep  5 2022, 14:08:36) [MSC v.1933 64 bit (AMD64)]"
  },
  "orig_nbformat": 4,
  "vscode": {
   "interpreter": {
    "hash": "fa8af0cc1927a15d37d0c6a05a578f184341335e7f035027322b44b8322fd6ef"
   }
  }
 },
 "nbformat": 4,
 "nbformat_minor": 2
}
