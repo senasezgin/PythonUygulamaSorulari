{
 "cells": [
  {
   "cell_type": "code",
   "execution_count": 2,
   "metadata": {},
   "outputs": [
    {
     "name": "stdout",
     "output_type": "stream",
     "text": [
      "Önceki Hali:  [1960, 20, 'John', 'Paul', 'George', 'Ringo', 'Hey Jude']\n",
      "Sonraki Hali:  [20, 'John', 'Paul', 'George', 'Ringo', 'Hey Jude']\n"
     ]
    }
   ],
   "source": [
    "mylist1 = [ 1960, 20, \"John\", \"Paul\", \"George\", \"Ringo\", \"Hey Jude\"]\n",
    "print(\"Önceki Hali: \", mylist1)\n",
    "mylist1.remove(1960)\n",
    "print(\"Sonraki Hali: \", mylist1)"
   ]
  },
  {
   "cell_type": "code",
   "execution_count": 3,
   "metadata": {},
   "outputs": [
    {
     "name": "stdout",
     "output_type": "stream",
     "text": [
      "İlk Hali:  [1960, 20, 'John', 'Paul', 'George', 'Ringo', 'Hey Jude']\n",
      "1. Hali:  [1960, 20, 'John', 'Paul', 'George', 'Ringo']\n",
      "2. Hali:  [1960, 'John', 'Paul', 'George', 'Ringo']\n"
     ]
    }
   ],
   "source": [
    "mylist1 = [ 1960, 20, \"John\", \"Paul\", \"George\", \"Ringo\", \"Hey Jude\"]\n",
    "print(\"İlk Hali: \", mylist1)\n",
    "mylist1.pop()\n",
    "print(\"1. Hali: \", mylist1)\n",
    "mylist1.pop(1)\n",
    "print(\"2. Hali: \", mylist1)\n"
   ]
  },
  {
   "cell_type": "code",
   "execution_count": 12,
   "metadata": {},
   "outputs": [
    {
     "name": "stdout",
     "output_type": "stream",
     "text": [
      "[1960, 'Paul', 'George', 'Ringo', 'Hey Jude']\n"
     ]
    }
   ],
   "source": [
    "mylist = [ 1960, 20, \"John\", \"Paul\", \"George\", \"Ringo\", \"Hey Jude\"]\n",
    "\n",
    "del mylist[1:3]\n",
    "print(mylist)"
   ]
  },
  {
   "cell_type": "code",
   "execution_count": 6,
   "metadata": {},
   "outputs": [
    {
     "name": "stdout",
     "output_type": "stream",
     "text": [
      "İlk Hali:  [1960, 'John', 'Paul', 'George', 'Ringo', 'Hey Jude']\n",
      "Son Hali:  []\n"
     ]
    }
   ],
   "source": [
    "mylist1 = [ 1960, \"John\", \"Paul\", \"George\", \"Ringo\", \"Hey Jude\"]\n",
    "print(\"İlk Hali: \", mylist1)\n",
    "mylist1.clear()\n",
    "print(\"Son Hali: \", mylist1)"
   ]
  },
  {
   "cell_type": "code",
   "execution_count": 7,
   "metadata": {},
   "outputs": [
    {
     "name": "stdout",
     "output_type": "stream",
     "text": [
      "['George', 'Ringo', 'John', 'Paul']\n"
     ]
    }
   ],
   "source": [
    "mylist0 = [\"John\", \"Paul\" ]\n",
    "mylist1 = [\"George\", \"Ringo\" ]\n",
    "\n",
    "mylist2 = mylist1 + mylist0\n",
    "print(mylist2)"
   ]
  },
  {
   "cell_type": "code",
   "execution_count": 9,
   "metadata": {},
   "outputs": [
    {
     "name": "stdout",
     "output_type": "stream",
     "text": [
      "['John', 'Paul', 'George', 'Ringo']\n"
     ]
    }
   ],
   "source": [
    "mylist0 = [\"John\", \"Paul\" ]\n",
    "mylist1 = [\"George\", \"Ringo\" ]\n",
    "mylist0.extend(mylist1)\n",
    "print(mylist0)"
   ]
  },
  {
   "cell_type": "code",
   "execution_count": 10,
   "metadata": {},
   "outputs": [
    {
     "name": "stdout",
     "output_type": "stream",
     "text": [
      "['HeyJude', 'let it be', 'Something', 3]\n"
     ]
    }
   ],
   "source": [
    "my_list = [\"HeyJude\", \"let it be\", \"Something\", 3]\n",
    "new_list = my_list.copy()\n",
    "\n",
    "my_list.append(4)\n",
    "print(new_list)"
   ]
  },
  {
   "cell_type": "code",
   "execution_count": 11,
   "metadata": {},
   "outputs": [
    {
     "name": "stdout",
     "output_type": "stream",
     "text": [
      "['HeyJude', 'let it be', 'Something', 3]\n"
     ]
    }
   ],
   "source": [
    "my_list = [\"HeyJude\", \"let it be\", \"Something\", 3]\n",
    "new_list = my_list.copy()\n",
    "\n",
    "my_list.append(4)\n",
    "print(new_list)"
   ]
  },
  {
   "cell_type": "code",
   "execution_count": 13,
   "metadata": {},
   "outputs": [
    {
     "name": "stdout",
     "output_type": "stream",
     "text": [
      "Listenin ilk hali:  [16, 6, 1960, 86]\n",
      "Listenin sıralanmış hali:  [6, 16, 86, 1960]\n",
      "Listenin tersten sıralanmış hali:  [1960, 86, 16, 6]\n",
      "Listenin max. elemanı:  1960\n",
      "Listenin min. elemanı:  6\n",
      "Listenin elemanlarının toplamı:  2068\n"
     ]
    }
   ],
   "source": [
    "my_list = [16, 6, 1960, 86]\n",
    "print(\"Listenin ilk hali: \", my_list)\n",
    "\n",
    "my_list.sort()\n",
    "print(\"Listenin sıralanmış hali: \", my_list)\n",
    "\n",
    "my_list.reverse()\n",
    "print(\"Listenin tersten sıralanmış hali: \", my_list)\n",
    "\n",
    "print(\"Listenin max. elemanı: \", max(my_list))\n",
    "print(\"Listenin min. elemanı: \", min(my_list))\n",
    "print(\"Listenin elemanlarının toplamı: \", sum(my_list))"
   ]
  },
  {
   "cell_type": "code",
   "execution_count": 14,
   "metadata": {},
   "outputs": [
    {
     "name": "stdout",
     "output_type": "stream",
     "text": [
      "['Elektrik-elektronik mühendisi.', 'Uludağ Üniversitesi']\n",
      "Elektrik-elektronik mühendisi.\n",
      "Uludağ Üniversitesi\n"
     ]
    }
   ],
   "source": [
    "my_list = [\"Sena\", 1997, [\"Elektrik-elektronik mühendisi.\", \"Uludağ Üniversitesi\"], 25 ]\n",
    "\n",
    "print(my_list[2])\n",
    "print(my_list[2][0])\n",
    "print(my_list[2][-1])"
   ]
  },
  {
   "cell_type": "code",
   "execution_count": 15,
   "metadata": {},
   "outputs": [
    {
     "name": "stdout",
     "output_type": "stream",
     "text": [
      "[324, 400, 3364]\n"
     ]
    }
   ],
   "source": [
    "#Bu listedeki çift sayıların karelerinden yeni bir liste oluşturalım.\n",
    "my_list = [18, 20, 77, 55, 58, 89]\n",
    "\n",
    "new_list = []\n",
    "for item in my_list:\n",
    "    if item % 2 == 0:\n",
    "        new_list.append(item**2)\n",
    "\n",
    "print(new_list)"
   ]
  },
  {
   "cell_type": "code",
   "execution_count": 16,
   "metadata": {},
   "outputs": [
    {
     "name": "stdout",
     "output_type": "stream",
     "text": [
      "[15, 25, 30, 10, 40, 50, 'sena', 48]\n"
     ]
    }
   ],
   "source": [
    "my_list = [15, 15, 25, 30, 10, 25, 40, 50, \"sena\", 50, 48, \"sena\"]\n",
    "uniqe_list = []\n",
    "\n",
    "for item in my_list:\n",
    "    if item not in uniqe_list:\n",
    "        uniqe_list.append(item)\n",
    "\n",
    "print(uniqe_list)"
   ]
  }
 ],
 "metadata": {
  "kernelspec": {
   "display_name": "Python 3.10.7 64-bit",
   "language": "python",
   "name": "python3"
  },
  "language_info": {
   "codemirror_mode": {
    "name": "ipython",
    "version": 3
   },
   "file_extension": ".py",
   "mimetype": "text/x-python",
   "name": "python",
   "nbconvert_exporter": "python",
   "pygments_lexer": "ipython3",
   "version": "3.10.7"
  },
  "orig_nbformat": 4,
  "vscode": {
   "interpreter": {
    "hash": "fa8af0cc1927a15d37d0c6a05a578f184341335e7f035027322b44b8322fd6ef"
   }
  }
 },
 "nbformat": 4,
 "nbformat_minor": 2
}
